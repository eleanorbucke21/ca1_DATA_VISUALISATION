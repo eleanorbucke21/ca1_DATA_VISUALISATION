{
  "nbformat": 4,
  "nbformat_minor": 0,
  "metadata": {
    "colab": {
      "provenance": []
    },
    "kernelspec": {
      "name": "python3",
      "display_name": "Python 3"
    },
    "language_info": {
      "name": "python"
    }
  },
  "cells": [
    {
      "cell_type": "markdown",
      "source": [
        "## Scenario:\n",
        "\n",
        "You have been retained by a retail company to analyse a dataset based on video games. This analysis will help determine the sales strategy for the company in their upcoming Winter season.    \n",
        "Each answer MUST have a separate and different visualization that can be easily understood, visually represents the answer, and all data wrangling, analysis, and visualizations must be generated using python(No EXCEL or Similar Technologies)  \n",
        "The companies CTO also requires you to rationalize all the decisions that you have made in Poster that displays your visualizations.    \n",
        "This rationalization MUST include your visualization design decisions for your visualizations, feature selection and any other information that you deem relevant.   \n",
        "\n",
        "You are required to use the dataset contained within the file “vgsales.csv” and then answer the following questions using a different visualization type (eg. Bar Chart, Scatter graph etc…) for each question:\n",
        "\n",
        "•\tWhat are the top 5 games by global sales?   \n",
        "•\tWhat is the distribution of the most popular 4 game genres?  \n",
        "•\tDo older games (2005 and earlier) have a higher MEAN “eu_sales” than newer games (after 2005)?  \n",
        "•\tWhat are the 3 most common “developer” in the dataset?  \n",
        "\n",
        "Your project must incorporate the following elements:\n",
        "•\tA Jupyter Notebook detailing your\n",
        "o\tEDA process,\n",
        "o\tData Cleaning,\n",
        "o\tFeature Selection\n",
        "o\tData Visualizations\n"
      ],
      "metadata": {
        "id": "EzSH6bmfGLxr"
      }
    },
    {
      "cell_type": "markdown",
      "source": [
        "# Assigment"
      ],
      "metadata": {
        "id": "0GdiWCBsHOeC"
      }
    },
    {
      "cell_type": "markdown",
      "source": [
        "## Data Loading & Initial Exploration"
      ],
      "metadata": {
        "id": "7SJEnvWtHRs6"
      }
    },
    {
      "cell_type": "markdown",
      "source": [
        "### Import Libraries & DataSet"
      ],
      "metadata": {
        "id": "cbj466Rbmk2k"
      }
    },
    {
      "cell_type": "code",
      "execution_count": null,
      "metadata": {
        "id": "pupXeMKtF9Ho"
      },
      "outputs": [],
      "source": []
    },
    {
      "cell_type": "markdown",
      "source": [
        "### Load and Explore Dataset"
      ],
      "metadata": {
        "id": "HUedMA1jHuLA"
      }
    },
    {
      "cell_type": "code",
      "source": [],
      "metadata": {
        "id": "2PPbOprsGSAW"
      },
      "execution_count": null,
      "outputs": []
    }
  ]
}