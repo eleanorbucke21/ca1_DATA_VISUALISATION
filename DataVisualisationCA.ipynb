{
  "nbformat": 4,
  "nbformat_minor": 0,
  "metadata": {
    "colab": {
      "provenance": [],
      "collapsed_sections": [
        "EzSH6bmfGLxr",
        "7SJEnvWtHRs6",
        "FhBuV-PPX1PN",
        "yobKTYk4kgXy"
      ],
      "toc_visible": true
    },
    "kernelspec": {
      "name": "python3",
      "display_name": "Python 3"
    },
    "language_info": {
      "name": "python"
    }
  },
  "cells": [
    {
      "cell_type": "markdown",
      "source": [
        "# Assessment Outline:\n",
        "\n"
      ],
      "metadata": {
        "id": "EzSH6bmfGLxr"
      }
    },
    {
      "cell_type": "markdown",
      "source": [
        "You have been retained by a retail company to analyse a dataset based on video games. This analysis will help determine the sales strategy for the company in their upcoming Winter season.    \n",
        "Each answer MUST have a separate and different visualization that can be easily understood, visually represents the answer, and all data wrangling, analysis, and visualizations must be generated using python(No EXCEL or Similar Technologies)  \n",
        "The companies CTO also requires you to rationalize all the decisions that you have made in Poster that displays your visualizations.    \n",
        "This rationalization MUST include your visualization design decisions for your visualizations, feature selection and any other information that you deem relevant.   \n",
        "\n",
        "<br>\n",
        "\n",
        "You are required to use the dataset contained within the file “vgsales.csv” and then answer the following questions using a different visualization type (eg. Bar Chart, Scatter graph etc…) for each question:\n",
        "\n",
        "<br>\n",
        "\n",
        "*\tWhat are the top 5 games by global sales?   \n",
        "*\tWhat is the distribution of the most popular 4 game genres?  \n",
        "*\tDo older games (2005 and earlier) have a higher MEAN “eu_sales” than newer games (after 2005)?  \n",
        "*\tWhat are the 3 most common “developer” in the dataset?  \n",
        "\n",
        "<br>\n",
        "\n",
        "Your project must incorporate the following elements:\n",
        "\n",
        "\n",
        "A Jupyter Notebook detailing your:\n",
        "*\tEDA process\n",
        "*\tData Cleaning\n",
        "*\tFeature Selection\n",
        "*\tData Visualizations"
      ],
      "metadata": {
        "id": "7Lgxmq4aOmNr"
      }
    },
    {
      "cell_type": "markdown",
      "source": [
        "# Assessment"
      ],
      "metadata": {
        "id": "0GdiWCBsHOeC"
      }
    },
    {
      "cell_type": "markdown",
      "source": [
        "## Exploratory Data Analysis"
      ],
      "metadata": {
        "id": "7SJEnvWtHRs6"
      }
    },
    {
      "cell_type": "markdown",
      "source": [
        "### Part One: Overview & Structure"
      ],
      "metadata": {
        "id": "FUAVMk2pHvsC"
      }
    },
    {
      "cell_type": "markdown",
      "source": [
        "#### Import Libraries & DataSet"
      ],
      "metadata": {
        "id": "cbj466Rbmk2k"
      }
    },
    {
      "cell_type": "code",
      "execution_count": 44,
      "metadata": {
        "id": "pupXeMKtF9Ho"
      },
      "outputs": [],
      "source": [
        "# Core libraries\n",
        "import pandas as pd\n",
        "import numpy as np\n",
        "\n",
        "# Visualization\n",
        "import matplotlib.pyplot as plt\n",
        "import seaborn as sns\n",
        "\n",
        "# Display settings\n",
        "import warnings\n",
        "warnings.filterwarnings('ignore')\n",
        "\n",
        "# Show plots inside notebook\n",
        "%matplotlib inline\n",
        "\n",
        "# Style\n",
        "sns.set(style=\"whitegrid\")\n",
        "\n",
        "# Calculate means for visualisation\n",
        "from numpy import mean\n",
        "import matplotlib.patches as mpatches"
      ]
    },
    {
      "cell_type": "markdown",
      "source": [
        "I import the essential Python libraries for data handling and visualization.\n",
        "\n",
        "* `pandas` and `numpy` will help me explore the data structurally.\n",
        "\n",
        "* `matplotlib` and `seaborn` will allow me to create visual summaries.\n",
        "\n",
        "* `%matplotlib inline` to show plots within the notebook.\n",
        "\n",
        "This setup is standard for performing EDA tasks in line with Ahmed (2025a)."
      ],
      "metadata": {
        "id": "TKWKQy3Yvx3d"
      }
    },
    {
      "cell_type": "code",
      "source": [
        "# Load the dataset\n",
        "vgsales = pd.read_csv('vgsales.csv')"
      ],
      "metadata": {
        "id": "2PPbOprsGSAW"
      },
      "execution_count": 2,
      "outputs": []
    },
    {
      "cell_type": "markdown",
      "source": [
        "#### View sample records\n",
        "\n",
        "*   Preview first 5 rows of the dataset\n",
        "*   Display column types, non-null counts, and memory usage\n",
        "*   Get summary statistics for numerical columns"
      ],
      "metadata": {
        "id": "JY4dqZXiq2qn"
      }
    },
    {
      "cell_type": "code",
      "source": [
        "vgsales.head()"
      ],
      "metadata": {
        "colab": {
          "base_uri": "https://localhost:8080/",
          "height": 206
        },
        "id": "lkcs4Cklqv_a",
        "outputId": "be45ff14-f655-4e0e-e470-97194d69770d",
        "collapsed": true
      },
      "execution_count": 3,
      "outputs": [
        {
          "output_type": "execute_result",
          "data": {
            "text/plain": [
              "                       Name Platform  Year_of_Release         Genre Publisher  \\\n",
              "0                Wii Sports      Wii           2006.0        Sports  Nintendo   \n",
              "1         Super Mario Bros.      NES           1985.0      Platform  Nintendo   \n",
              "2            Mario Kart Wii      Wii           2008.0        Racing  Nintendo   \n",
              "3         Wii Sports Resort      Wii           2009.0        Sports  Nintendo   \n",
              "4  Pokemon Red/Pokemon Blue       GB           1996.0  Role-Playing  Nintendo   \n",
              "\n",
              "   NA_Sales  EU_Sales  JP_Sales  Other_Sales  Global_Sales  Critic_Score  \\\n",
              "0     41.36     28.96      3.77         8.45         82.53          76.0   \n",
              "1     29.08      3.58      6.81         0.77         40.24           NaN   \n",
              "2     15.68     12.76      3.79         3.29         35.52          82.0   \n",
              "3     15.61     10.93      3.28         2.95         32.77          80.0   \n",
              "4     11.27      8.89     10.22         1.00         31.37           NaN   \n",
              "\n",
              "   Critic_Count User_Score  User_Count Developer Rating  \n",
              "0          51.0          8       322.0  Nintendo      E  \n",
              "1           NaN        NaN         NaN       NaN    NaN  \n",
              "2          73.0        8.3       709.0  Nintendo      E  \n",
              "3          73.0          8       192.0  Nintendo      E  \n",
              "4           NaN        NaN         NaN       NaN    NaN  "
            ],
            "text/html": [
              "\n",
              "  <div id=\"df-158748aa-c305-4aed-986d-c2f5516e1ade\" class=\"colab-df-container\">\n",
              "    <div>\n",
              "<style scoped>\n",
              "    .dataframe tbody tr th:only-of-type {\n",
              "        vertical-align: middle;\n",
              "    }\n",
              "\n",
              "    .dataframe tbody tr th {\n",
              "        vertical-align: top;\n",
              "    }\n",
              "\n",
              "    .dataframe thead th {\n",
              "        text-align: right;\n",
              "    }\n",
              "</style>\n",
              "<table border=\"1\" class=\"dataframe\">\n",
              "  <thead>\n",
              "    <tr style=\"text-align: right;\">\n",
              "      <th></th>\n",
              "      <th>Name</th>\n",
              "      <th>Platform</th>\n",
              "      <th>Year_of_Release</th>\n",
              "      <th>Genre</th>\n",
              "      <th>Publisher</th>\n",
              "      <th>NA_Sales</th>\n",
              "      <th>EU_Sales</th>\n",
              "      <th>JP_Sales</th>\n",
              "      <th>Other_Sales</th>\n",
              "      <th>Global_Sales</th>\n",
              "      <th>Critic_Score</th>\n",
              "      <th>Critic_Count</th>\n",
              "      <th>User_Score</th>\n",
              "      <th>User_Count</th>\n",
              "      <th>Developer</th>\n",
              "      <th>Rating</th>\n",
              "    </tr>\n",
              "  </thead>\n",
              "  <tbody>\n",
              "    <tr>\n",
              "      <th>0</th>\n",
              "      <td>Wii Sports</td>\n",
              "      <td>Wii</td>\n",
              "      <td>2006.0</td>\n",
              "      <td>Sports</td>\n",
              "      <td>Nintendo</td>\n",
              "      <td>41.36</td>\n",
              "      <td>28.96</td>\n",
              "      <td>3.77</td>\n",
              "      <td>8.45</td>\n",
              "      <td>82.53</td>\n",
              "      <td>76.0</td>\n",
              "      <td>51.0</td>\n",
              "      <td>8</td>\n",
              "      <td>322.0</td>\n",
              "      <td>Nintendo</td>\n",
              "      <td>E</td>\n",
              "    </tr>\n",
              "    <tr>\n",
              "      <th>1</th>\n",
              "      <td>Super Mario Bros.</td>\n",
              "      <td>NES</td>\n",
              "      <td>1985.0</td>\n",
              "      <td>Platform</td>\n",
              "      <td>Nintendo</td>\n",
              "      <td>29.08</td>\n",
              "      <td>3.58</td>\n",
              "      <td>6.81</td>\n",
              "      <td>0.77</td>\n",
              "      <td>40.24</td>\n",
              "      <td>NaN</td>\n",
              "      <td>NaN</td>\n",
              "      <td>NaN</td>\n",
              "      <td>NaN</td>\n",
              "      <td>NaN</td>\n",
              "      <td>NaN</td>\n",
              "    </tr>\n",
              "    <tr>\n",
              "      <th>2</th>\n",
              "      <td>Mario Kart Wii</td>\n",
              "      <td>Wii</td>\n",
              "      <td>2008.0</td>\n",
              "      <td>Racing</td>\n",
              "      <td>Nintendo</td>\n",
              "      <td>15.68</td>\n",
              "      <td>12.76</td>\n",
              "      <td>3.79</td>\n",
              "      <td>3.29</td>\n",
              "      <td>35.52</td>\n",
              "      <td>82.0</td>\n",
              "      <td>73.0</td>\n",
              "      <td>8.3</td>\n",
              "      <td>709.0</td>\n",
              "      <td>Nintendo</td>\n",
              "      <td>E</td>\n",
              "    </tr>\n",
              "    <tr>\n",
              "      <th>3</th>\n",
              "      <td>Wii Sports Resort</td>\n",
              "      <td>Wii</td>\n",
              "      <td>2009.0</td>\n",
              "      <td>Sports</td>\n",
              "      <td>Nintendo</td>\n",
              "      <td>15.61</td>\n",
              "      <td>10.93</td>\n",
              "      <td>3.28</td>\n",
              "      <td>2.95</td>\n",
              "      <td>32.77</td>\n",
              "      <td>80.0</td>\n",
              "      <td>73.0</td>\n",
              "      <td>8</td>\n",
              "      <td>192.0</td>\n",
              "      <td>Nintendo</td>\n",
              "      <td>E</td>\n",
              "    </tr>\n",
              "    <tr>\n",
              "      <th>4</th>\n",
              "      <td>Pokemon Red/Pokemon Blue</td>\n",
              "      <td>GB</td>\n",
              "      <td>1996.0</td>\n",
              "      <td>Role-Playing</td>\n",
              "      <td>Nintendo</td>\n",
              "      <td>11.27</td>\n",
              "      <td>8.89</td>\n",
              "      <td>10.22</td>\n",
              "      <td>1.00</td>\n",
              "      <td>31.37</td>\n",
              "      <td>NaN</td>\n",
              "      <td>NaN</td>\n",
              "      <td>NaN</td>\n",
              "      <td>NaN</td>\n",
              "      <td>NaN</td>\n",
              "      <td>NaN</td>\n",
              "    </tr>\n",
              "  </tbody>\n",
              "</table>\n",
              "</div>\n",
              "    <div class=\"colab-df-buttons\">\n",
              "\n",
              "  <div class=\"colab-df-container\">\n",
              "    <button class=\"colab-df-convert\" onclick=\"convertToInteractive('df-158748aa-c305-4aed-986d-c2f5516e1ade')\"\n",
              "            title=\"Convert this dataframe to an interactive table.\"\n",
              "            style=\"display:none;\">\n",
              "\n",
              "  <svg xmlns=\"http://www.w3.org/2000/svg\" height=\"24px\" viewBox=\"0 -960 960 960\">\n",
              "    <path d=\"M120-120v-720h720v720H120Zm60-500h600v-160H180v160Zm220 220h160v-160H400v160Zm0 220h160v-160H400v160ZM180-400h160v-160H180v160Zm440 0h160v-160H620v160ZM180-180h160v-160H180v160Zm440 0h160v-160H620v160Z\"/>\n",
              "  </svg>\n",
              "    </button>\n",
              "\n",
              "  <style>\n",
              "    .colab-df-container {\n",
              "      display:flex;\n",
              "      gap: 12px;\n",
              "    }\n",
              "\n",
              "    .colab-df-convert {\n",
              "      background-color: #E8F0FE;\n",
              "      border: none;\n",
              "      border-radius: 50%;\n",
              "      cursor: pointer;\n",
              "      display: none;\n",
              "      fill: #1967D2;\n",
              "      height: 32px;\n",
              "      padding: 0 0 0 0;\n",
              "      width: 32px;\n",
              "    }\n",
              "\n",
              "    .colab-df-convert:hover {\n",
              "      background-color: #E2EBFA;\n",
              "      box-shadow: 0px 1px 2px rgba(60, 64, 67, 0.3), 0px 1px 3px 1px rgba(60, 64, 67, 0.15);\n",
              "      fill: #174EA6;\n",
              "    }\n",
              "\n",
              "    .colab-df-buttons div {\n",
              "      margin-bottom: 4px;\n",
              "    }\n",
              "\n",
              "    [theme=dark] .colab-df-convert {\n",
              "      background-color: #3B4455;\n",
              "      fill: #D2E3FC;\n",
              "    }\n",
              "\n",
              "    [theme=dark] .colab-df-convert:hover {\n",
              "      background-color: #434B5C;\n",
              "      box-shadow: 0px 1px 3px 1px rgba(0, 0, 0, 0.15);\n",
              "      filter: drop-shadow(0px 1px 2px rgba(0, 0, 0, 0.3));\n",
              "      fill: #FFFFFF;\n",
              "    }\n",
              "  </style>\n",
              "\n",
              "    <script>\n",
              "      const buttonEl =\n",
              "        document.querySelector('#df-158748aa-c305-4aed-986d-c2f5516e1ade button.colab-df-convert');\n",
              "      buttonEl.style.display =\n",
              "        google.colab.kernel.accessAllowed ? 'block' : 'none';\n",
              "\n",
              "      async function convertToInteractive(key) {\n",
              "        const element = document.querySelector('#df-158748aa-c305-4aed-986d-c2f5516e1ade');\n",
              "        const dataTable =\n",
              "          await google.colab.kernel.invokeFunction('convertToInteractive',\n",
              "                                                    [key], {});\n",
              "        if (!dataTable) return;\n",
              "\n",
              "        const docLinkHtml = 'Like what you see? Visit the ' +\n",
              "          '<a target=\"_blank\" href=https://colab.research.google.com/notebooks/data_table.ipynb>data table notebook</a>'\n",
              "          + ' to learn more about interactive tables.';\n",
              "        element.innerHTML = '';\n",
              "        dataTable['output_type'] = 'display_data';\n",
              "        await google.colab.output.renderOutput(dataTable, element);\n",
              "        const docLink = document.createElement('div');\n",
              "        docLink.innerHTML = docLinkHtml;\n",
              "        element.appendChild(docLink);\n",
              "      }\n",
              "    </script>\n",
              "  </div>\n",
              "\n",
              "\n",
              "    <div id=\"df-f968cd6c-f546-40fb-a6fb-6b5cfc2bb212\">\n",
              "      <button class=\"colab-df-quickchart\" onclick=\"quickchart('df-f968cd6c-f546-40fb-a6fb-6b5cfc2bb212')\"\n",
              "                title=\"Suggest charts\"\n",
              "                style=\"display:none;\">\n",
              "\n",
              "<svg xmlns=\"http://www.w3.org/2000/svg\" height=\"24px\"viewBox=\"0 0 24 24\"\n",
              "     width=\"24px\">\n",
              "    <g>\n",
              "        <path d=\"M19 3H5c-1.1 0-2 .9-2 2v14c0 1.1.9 2 2 2h14c1.1 0 2-.9 2-2V5c0-1.1-.9-2-2-2zM9 17H7v-7h2v7zm4 0h-2V7h2v10zm4 0h-2v-4h2v4z\"/>\n",
              "    </g>\n",
              "</svg>\n",
              "      </button>\n",
              "\n",
              "<style>\n",
              "  .colab-df-quickchart {\n",
              "      --bg-color: #E8F0FE;\n",
              "      --fill-color: #1967D2;\n",
              "      --hover-bg-color: #E2EBFA;\n",
              "      --hover-fill-color: #174EA6;\n",
              "      --disabled-fill-color: #AAA;\n",
              "      --disabled-bg-color: #DDD;\n",
              "  }\n",
              "\n",
              "  [theme=dark] .colab-df-quickchart {\n",
              "      --bg-color: #3B4455;\n",
              "      --fill-color: #D2E3FC;\n",
              "      --hover-bg-color: #434B5C;\n",
              "      --hover-fill-color: #FFFFFF;\n",
              "      --disabled-bg-color: #3B4455;\n",
              "      --disabled-fill-color: #666;\n",
              "  }\n",
              "\n",
              "  .colab-df-quickchart {\n",
              "    background-color: var(--bg-color);\n",
              "    border: none;\n",
              "    border-radius: 50%;\n",
              "    cursor: pointer;\n",
              "    display: none;\n",
              "    fill: var(--fill-color);\n",
              "    height: 32px;\n",
              "    padding: 0;\n",
              "    width: 32px;\n",
              "  }\n",
              "\n",
              "  .colab-df-quickchart:hover {\n",
              "    background-color: var(--hover-bg-color);\n",
              "    box-shadow: 0 1px 2px rgba(60, 64, 67, 0.3), 0 1px 3px 1px rgba(60, 64, 67, 0.15);\n",
              "    fill: var(--button-hover-fill-color);\n",
              "  }\n",
              "\n",
              "  .colab-df-quickchart-complete:disabled,\n",
              "  .colab-df-quickchart-complete:disabled:hover {\n",
              "    background-color: var(--disabled-bg-color);\n",
              "    fill: var(--disabled-fill-color);\n",
              "    box-shadow: none;\n",
              "  }\n",
              "\n",
              "  .colab-df-spinner {\n",
              "    border: 2px solid var(--fill-color);\n",
              "    border-color: transparent;\n",
              "    border-bottom-color: var(--fill-color);\n",
              "    animation:\n",
              "      spin 1s steps(1) infinite;\n",
              "  }\n",
              "\n",
              "  @keyframes spin {\n",
              "    0% {\n",
              "      border-color: transparent;\n",
              "      border-bottom-color: var(--fill-color);\n",
              "      border-left-color: var(--fill-color);\n",
              "    }\n",
              "    20% {\n",
              "      border-color: transparent;\n",
              "      border-left-color: var(--fill-color);\n",
              "      border-top-color: var(--fill-color);\n",
              "    }\n",
              "    30% {\n",
              "      border-color: transparent;\n",
              "      border-left-color: var(--fill-color);\n",
              "      border-top-color: var(--fill-color);\n",
              "      border-right-color: var(--fill-color);\n",
              "    }\n",
              "    40% {\n",
              "      border-color: transparent;\n",
              "      border-right-color: var(--fill-color);\n",
              "      border-top-color: var(--fill-color);\n",
              "    }\n",
              "    60% {\n",
              "      border-color: transparent;\n",
              "      border-right-color: var(--fill-color);\n",
              "    }\n",
              "    80% {\n",
              "      border-color: transparent;\n",
              "      border-right-color: var(--fill-color);\n",
              "      border-bottom-color: var(--fill-color);\n",
              "    }\n",
              "    90% {\n",
              "      border-color: transparent;\n",
              "      border-bottom-color: var(--fill-color);\n",
              "    }\n",
              "  }\n",
              "</style>\n",
              "\n",
              "      <script>\n",
              "        async function quickchart(key) {\n",
              "          const quickchartButtonEl =\n",
              "            document.querySelector('#' + key + ' button');\n",
              "          quickchartButtonEl.disabled = true;  // To prevent multiple clicks.\n",
              "          quickchartButtonEl.classList.add('colab-df-spinner');\n",
              "          try {\n",
              "            const charts = await google.colab.kernel.invokeFunction(\n",
              "                'suggestCharts', [key], {});\n",
              "          } catch (error) {\n",
              "            console.error('Error during call to suggestCharts:', error);\n",
              "          }\n",
              "          quickchartButtonEl.classList.remove('colab-df-spinner');\n",
              "          quickchartButtonEl.classList.add('colab-df-quickchart-complete');\n",
              "        }\n",
              "        (() => {\n",
              "          let quickchartButtonEl =\n",
              "            document.querySelector('#df-f968cd6c-f546-40fb-a6fb-6b5cfc2bb212 button');\n",
              "          quickchartButtonEl.style.display =\n",
              "            google.colab.kernel.accessAllowed ? 'block' : 'none';\n",
              "        })();\n",
              "      </script>\n",
              "    </div>\n",
              "\n",
              "    </div>\n",
              "  </div>\n"
            ],
            "application/vnd.google.colaboratory.intrinsic+json": {
              "type": "dataframe",
              "variable_name": "vgsales",
              "summary": "{\n  \"name\": \"vgsales\",\n  \"rows\": 16719,\n  \"fields\": [\n    {\n      \"column\": \"Name\",\n      \"properties\": {\n        \"dtype\": \"string\",\n        \"num_unique_values\": 11562,\n        \"samples\": [\n          \"Maximum Force\",\n          \"DS Bungaku Zenshuu\",\n          \"Derby Jockey: Kishou e no Michi\"\n        ],\n        \"semantic_type\": \"\",\n        \"description\": \"\"\n      }\n    },\n    {\n      \"column\": \"Platform\",\n      \"properties\": {\n        \"dtype\": \"category\",\n        \"num_unique_values\": 31,\n        \"samples\": [\n          \"TG16\",\n          \"2600\",\n          \"SAT\"\n        ],\n        \"semantic_type\": \"\",\n        \"description\": \"\"\n      }\n    },\n    {\n      \"column\": \"Year_of_Release\",\n      \"properties\": {\n        \"dtype\": \"number\",\n        \"std\": 5.87899476834851,\n        \"min\": 1980.0,\n        \"max\": 2020.0,\n        \"num_unique_values\": 39,\n        \"samples\": [\n          1981.0,\n          1983.0,\n          1996.0\n        ],\n        \"semantic_type\": \"\",\n        \"description\": \"\"\n      }\n    },\n    {\n      \"column\": \"Genre\",\n      \"properties\": {\n        \"dtype\": \"category\",\n        \"num_unique_values\": 12,\n        \"samples\": [\n          \"Adventure\",\n          \"Fighting\",\n          \"Sports\"\n        ],\n        \"semantic_type\": \"\",\n        \"description\": \"\"\n      }\n    },\n    {\n      \"column\": \"Publisher\",\n      \"properties\": {\n        \"dtype\": \"category\",\n        \"num_unique_values\": 581,\n        \"samples\": [\n          \"Commseed\",\n          \"Astragon\",\n          \"Genki\"\n        ],\n        \"semantic_type\": \"\",\n        \"description\": \"\"\n      }\n    },\n    {\n      \"column\": \"NA_Sales\",\n      \"properties\": {\n        \"dtype\": \"number\",\n        \"std\": 0.8135138347516405,\n        \"min\": 0.0,\n        \"max\": 41.36,\n        \"num_unique_values\": 402,\n        \"samples\": [\n          1.45,\n          0.59,\n          5.28\n        ],\n        \"semantic_type\": \"\",\n        \"description\": \"\"\n      }\n    },\n    {\n      \"column\": \"EU_Sales\",\n      \"properties\": {\n        \"dtype\": \"number\",\n        \"std\": 0.503283296094286,\n        \"min\": 0.0,\n        \"max\": 28.96,\n        \"num_unique_values\": 307,\n        \"samples\": [\n          1.29,\n          1.95,\n          1.83\n        ],\n        \"semantic_type\": \"\",\n        \"description\": \"\"\n      }\n    },\n    {\n      \"column\": \"JP_Sales\",\n      \"properties\": {\n        \"dtype\": \"number\",\n        \"std\": 0.3088180805146343,\n        \"min\": 0.0,\n        \"max\": 10.22,\n        \"num_unique_values\": 244,\n        \"samples\": [\n          0.47,\n          6.5,\n          2.46\n        ],\n        \"semantic_type\": \"\",\n        \"description\": \"\"\n      }\n    },\n    {\n      \"column\": \"Other_Sales\",\n      \"properties\": {\n        \"dtype\": \"number\",\n        \"std\": 0.18670989698950866,\n        \"min\": 0.0,\n        \"max\": 10.57,\n        \"num_unique_values\": 155,\n        \"samples\": [\n          0.48,\n          0.27,\n          2.38\n        ],\n        \"semantic_type\": \"\",\n        \"description\": \"\"\n      }\n    },\n    {\n      \"column\": \"Global_Sales\",\n      \"properties\": {\n        \"dtype\": \"number\",\n        \"std\": 1.5479351247177218,\n        \"min\": 0.01,\n        \"max\": 82.53,\n        \"num_unique_values\": 629,\n        \"samples\": [\n          1.35,\n          4.11,\n          0.78\n        ],\n        \"semantic_type\": \"\",\n        \"description\": \"\"\n      }\n    },\n    {\n      \"column\": \"Critic_Score\",\n      \"properties\": {\n        \"dtype\": \"number\",\n        \"std\": 13.938164552843201,\n        \"min\": 13.0,\n        \"max\": 98.0,\n        \"num_unique_values\": 82,\n        \"samples\": [\n          67.0,\n          76.0,\n          74.0\n        ],\n        \"semantic_type\": \"\",\n        \"description\": \"\"\n      }\n    },\n    {\n      \"column\": \"Critic_Count\",\n      \"properties\": {\n        \"dtype\": \"number\",\n        \"std\": 18.98049453458247,\n        \"min\": 3.0,\n        \"max\": 113.0,\n        \"num_unique_values\": 106,\n        \"samples\": [\n          6.0,\n          58.0,\n          80.0\n        ],\n        \"semantic_type\": \"\",\n        \"description\": \"\"\n      }\n    },\n    {\n      \"column\": \"User_Score\",\n      \"properties\": {\n        \"dtype\": \"category\",\n        \"num_unique_values\": 96,\n        \"samples\": [\n          \"2.4\",\n          \"0\",\n          \"3.6\"\n        ],\n        \"semantic_type\": \"\",\n        \"description\": \"\"\n      }\n    },\n    {\n      \"column\": \"User_Count\",\n      \"properties\": {\n        \"dtype\": \"number\",\n        \"std\": 561.282326247378,\n        \"min\": 4.0,\n        \"max\": 10665.0,\n        \"num_unique_values\": 888,\n        \"samples\": [\n          892.0,\n          932.0,\n          16.0\n        ],\n        \"semantic_type\": \"\",\n        \"description\": \"\"\n      }\n    },\n    {\n      \"column\": \"Developer\",\n      \"properties\": {\n        \"dtype\": \"category\",\n        \"num_unique_values\": 1696,\n        \"samples\": [\n          \"Q-Games\",\n          \"BioWare\",\n          \"EA DICE, Danger Close\"\n        ],\n        \"semantic_type\": \"\",\n        \"description\": \"\"\n      }\n    },\n    {\n      \"column\": \"Rating\",\n      \"properties\": {\n        \"dtype\": \"category\",\n        \"num_unique_values\": 8,\n        \"samples\": [\n          \"M\",\n          \"AO\",\n          \"E\"\n        ],\n        \"semantic_type\": \"\",\n        \"description\": \"\"\n      }\n    }\n  ]\n}"
            }
          },
          "metadata": {},
          "execution_count": 3
        }
      ]
    },
    {
      "cell_type": "code",
      "source": [
        "vgsales.tail()"
      ],
      "metadata": {
        "colab": {
          "base_uri": "https://localhost:8080/",
          "height": 206
        },
        "id": "DINvSmEwzHbI",
        "outputId": "428c5248-de3b-4d47-d9bd-6a13fe68d53d"
      },
      "execution_count": 4,
      "outputs": [
        {
          "output_type": "execute_result",
          "data": {
            "text/plain": [
              "                                Name Platform  Year_of_Release       Genre  \\\n",
              "16714  Samurai Warriors: Sanada Maru      PS3           2016.0      Action   \n",
              "16715               LMA Manager 2007     X360           2006.0      Sports   \n",
              "16716        Haitaka no Psychedelica      PSV           2016.0   Adventure   \n",
              "16717               Spirits & Spells      GBA           2003.0    Platform   \n",
              "16718            Winning Post 8 2016      PSV           2016.0  Simulation   \n",
              "\n",
              "          Publisher  NA_Sales  EU_Sales  JP_Sales  Other_Sales  Global_Sales  \\\n",
              "16714    Tecmo Koei      0.00      0.00      0.01          0.0          0.01   \n",
              "16715   Codemasters      0.00      0.01      0.00          0.0          0.01   \n",
              "16716  Idea Factory      0.00      0.00      0.01          0.0          0.01   \n",
              "16717       Wanadoo      0.01      0.00      0.00          0.0          0.01   \n",
              "16718    Tecmo Koei      0.00      0.00      0.01          0.0          0.01   \n",
              "\n",
              "       Critic_Score  Critic_Count User_Score  User_Count Developer Rating  \n",
              "16714           NaN           NaN        NaN         NaN       NaN    NaN  \n",
              "16715           NaN           NaN        NaN         NaN       NaN    NaN  \n",
              "16716           NaN           NaN        NaN         NaN       NaN    NaN  \n",
              "16717           NaN           NaN        NaN         NaN       NaN    NaN  \n",
              "16718           NaN           NaN        NaN         NaN       NaN    NaN  "
            ],
            "text/html": [
              "\n",
              "  <div id=\"df-8b80192b-5bff-468e-91e7-5c17a8e2f5c7\" class=\"colab-df-container\">\n",
              "    <div>\n",
              "<style scoped>\n",
              "    .dataframe tbody tr th:only-of-type {\n",
              "        vertical-align: middle;\n",
              "    }\n",
              "\n",
              "    .dataframe tbody tr th {\n",
              "        vertical-align: top;\n",
              "    }\n",
              "\n",
              "    .dataframe thead th {\n",
              "        text-align: right;\n",
              "    }\n",
              "</style>\n",
              "<table border=\"1\" class=\"dataframe\">\n",
              "  <thead>\n",
              "    <tr style=\"text-align: right;\">\n",
              "      <th></th>\n",
              "      <th>Name</th>\n",
              "      <th>Platform</th>\n",
              "      <th>Year_of_Release</th>\n",
              "      <th>Genre</th>\n",
              "      <th>Publisher</th>\n",
              "      <th>NA_Sales</th>\n",
              "      <th>EU_Sales</th>\n",
              "      <th>JP_Sales</th>\n",
              "      <th>Other_Sales</th>\n",
              "      <th>Global_Sales</th>\n",
              "      <th>Critic_Score</th>\n",
              "      <th>Critic_Count</th>\n",
              "      <th>User_Score</th>\n",
              "      <th>User_Count</th>\n",
              "      <th>Developer</th>\n",
              "      <th>Rating</th>\n",
              "    </tr>\n",
              "  </thead>\n",
              "  <tbody>\n",
              "    <tr>\n",
              "      <th>16714</th>\n",
              "      <td>Samurai Warriors: Sanada Maru</td>\n",
              "      <td>PS3</td>\n",
              "      <td>2016.0</td>\n",
              "      <td>Action</td>\n",
              "      <td>Tecmo Koei</td>\n",
              "      <td>0.00</td>\n",
              "      <td>0.00</td>\n",
              "      <td>0.01</td>\n",
              "      <td>0.0</td>\n",
              "      <td>0.01</td>\n",
              "      <td>NaN</td>\n",
              "      <td>NaN</td>\n",
              "      <td>NaN</td>\n",
              "      <td>NaN</td>\n",
              "      <td>NaN</td>\n",
              "      <td>NaN</td>\n",
              "    </tr>\n",
              "    <tr>\n",
              "      <th>16715</th>\n",
              "      <td>LMA Manager 2007</td>\n",
              "      <td>X360</td>\n",
              "      <td>2006.0</td>\n",
              "      <td>Sports</td>\n",
              "      <td>Codemasters</td>\n",
              "      <td>0.00</td>\n",
              "      <td>0.01</td>\n",
              "      <td>0.00</td>\n",
              "      <td>0.0</td>\n",
              "      <td>0.01</td>\n",
              "      <td>NaN</td>\n",
              "      <td>NaN</td>\n",
              "      <td>NaN</td>\n",
              "      <td>NaN</td>\n",
              "      <td>NaN</td>\n",
              "      <td>NaN</td>\n",
              "    </tr>\n",
              "    <tr>\n",
              "      <th>16716</th>\n",
              "      <td>Haitaka no Psychedelica</td>\n",
              "      <td>PSV</td>\n",
              "      <td>2016.0</td>\n",
              "      <td>Adventure</td>\n",
              "      <td>Idea Factory</td>\n",
              "      <td>0.00</td>\n",
              "      <td>0.00</td>\n",
              "      <td>0.01</td>\n",
              "      <td>0.0</td>\n",
              "      <td>0.01</td>\n",
              "      <td>NaN</td>\n",
              "      <td>NaN</td>\n",
              "      <td>NaN</td>\n",
              "      <td>NaN</td>\n",
              "      <td>NaN</td>\n",
              "      <td>NaN</td>\n",
              "    </tr>\n",
              "    <tr>\n",
              "      <th>16717</th>\n",
              "      <td>Spirits &amp; Spells</td>\n",
              "      <td>GBA</td>\n",
              "      <td>2003.0</td>\n",
              "      <td>Platform</td>\n",
              "      <td>Wanadoo</td>\n",
              "      <td>0.01</td>\n",
              "      <td>0.00</td>\n",
              "      <td>0.00</td>\n",
              "      <td>0.0</td>\n",
              "      <td>0.01</td>\n",
              "      <td>NaN</td>\n",
              "      <td>NaN</td>\n",
              "      <td>NaN</td>\n",
              "      <td>NaN</td>\n",
              "      <td>NaN</td>\n",
              "      <td>NaN</td>\n",
              "    </tr>\n",
              "    <tr>\n",
              "      <th>16718</th>\n",
              "      <td>Winning Post 8 2016</td>\n",
              "      <td>PSV</td>\n",
              "      <td>2016.0</td>\n",
              "      <td>Simulation</td>\n",
              "      <td>Tecmo Koei</td>\n",
              "      <td>0.00</td>\n",
              "      <td>0.00</td>\n",
              "      <td>0.01</td>\n",
              "      <td>0.0</td>\n",
              "      <td>0.01</td>\n",
              "      <td>NaN</td>\n",
              "      <td>NaN</td>\n",
              "      <td>NaN</td>\n",
              "      <td>NaN</td>\n",
              "      <td>NaN</td>\n",
              "      <td>NaN</td>\n",
              "    </tr>\n",
              "  </tbody>\n",
              "</table>\n",
              "</div>\n",
              "    <div class=\"colab-df-buttons\">\n",
              "\n",
              "  <div class=\"colab-df-container\">\n",
              "    <button class=\"colab-df-convert\" onclick=\"convertToInteractive('df-8b80192b-5bff-468e-91e7-5c17a8e2f5c7')\"\n",
              "            title=\"Convert this dataframe to an interactive table.\"\n",
              "            style=\"display:none;\">\n",
              "\n",
              "  <svg xmlns=\"http://www.w3.org/2000/svg\" height=\"24px\" viewBox=\"0 -960 960 960\">\n",
              "    <path d=\"M120-120v-720h720v720H120Zm60-500h600v-160H180v160Zm220 220h160v-160H400v160Zm0 220h160v-160H400v160ZM180-400h160v-160H180v160Zm440 0h160v-160H620v160ZM180-180h160v-160H180v160Zm440 0h160v-160H620v160Z\"/>\n",
              "  </svg>\n",
              "    </button>\n",
              "\n",
              "  <style>\n",
              "    .colab-df-container {\n",
              "      display:flex;\n",
              "      gap: 12px;\n",
              "    }\n",
              "\n",
              "    .colab-df-convert {\n",
              "      background-color: #E8F0FE;\n",
              "      border: none;\n",
              "      border-radius: 50%;\n",
              "      cursor: pointer;\n",
              "      display: none;\n",
              "      fill: #1967D2;\n",
              "      height: 32px;\n",
              "      padding: 0 0 0 0;\n",
              "      width: 32px;\n",
              "    }\n",
              "\n",
              "    .colab-df-convert:hover {\n",
              "      background-color: #E2EBFA;\n",
              "      box-shadow: 0px 1px 2px rgba(60, 64, 67, 0.3), 0px 1px 3px 1px rgba(60, 64, 67, 0.15);\n",
              "      fill: #174EA6;\n",
              "    }\n",
              "\n",
              "    .colab-df-buttons div {\n",
              "      margin-bottom: 4px;\n",
              "    }\n",
              "\n",
              "    [theme=dark] .colab-df-convert {\n",
              "      background-color: #3B4455;\n",
              "      fill: #D2E3FC;\n",
              "    }\n",
              "\n",
              "    [theme=dark] .colab-df-convert:hover {\n",
              "      background-color: #434B5C;\n",
              "      box-shadow: 0px 1px 3px 1px rgba(0, 0, 0, 0.15);\n",
              "      filter: drop-shadow(0px 1px 2px rgba(0, 0, 0, 0.3));\n",
              "      fill: #FFFFFF;\n",
              "    }\n",
              "  </style>\n",
              "\n",
              "    <script>\n",
              "      const buttonEl =\n",
              "        document.querySelector('#df-8b80192b-5bff-468e-91e7-5c17a8e2f5c7 button.colab-df-convert');\n",
              "      buttonEl.style.display =\n",
              "        google.colab.kernel.accessAllowed ? 'block' : 'none';\n",
              "\n",
              "      async function convertToInteractive(key) {\n",
              "        const element = document.querySelector('#df-8b80192b-5bff-468e-91e7-5c17a8e2f5c7');\n",
              "        const dataTable =\n",
              "          await google.colab.kernel.invokeFunction('convertToInteractive',\n",
              "                                                    [key], {});\n",
              "        if (!dataTable) return;\n",
              "\n",
              "        const docLinkHtml = 'Like what you see? Visit the ' +\n",
              "          '<a target=\"_blank\" href=https://colab.research.google.com/notebooks/data_table.ipynb>data table notebook</a>'\n",
              "          + ' to learn more about interactive tables.';\n",
              "        element.innerHTML = '';\n",
              "        dataTable['output_type'] = 'display_data';\n",
              "        await google.colab.output.renderOutput(dataTable, element);\n",
              "        const docLink = document.createElement('div');\n",
              "        docLink.innerHTML = docLinkHtml;\n",
              "        element.appendChild(docLink);\n",
              "      }\n",
              "    </script>\n",
              "  </div>\n",
              "\n",
              "\n",
              "    <div id=\"df-381d3418-7b43-4c89-a6ee-4c2c40ee09cc\">\n",
              "      <button class=\"colab-df-quickchart\" onclick=\"quickchart('df-381d3418-7b43-4c89-a6ee-4c2c40ee09cc')\"\n",
              "                title=\"Suggest charts\"\n",
              "                style=\"display:none;\">\n",
              "\n",
              "<svg xmlns=\"http://www.w3.org/2000/svg\" height=\"24px\"viewBox=\"0 0 24 24\"\n",
              "     width=\"24px\">\n",
              "    <g>\n",
              "        <path d=\"M19 3H5c-1.1 0-2 .9-2 2v14c0 1.1.9 2 2 2h14c1.1 0 2-.9 2-2V5c0-1.1-.9-2-2-2zM9 17H7v-7h2v7zm4 0h-2V7h2v10zm4 0h-2v-4h2v4z\"/>\n",
              "    </g>\n",
              "</svg>\n",
              "      </button>\n",
              "\n",
              "<style>\n",
              "  .colab-df-quickchart {\n",
              "      --bg-color: #E8F0FE;\n",
              "      --fill-color: #1967D2;\n",
              "      --hover-bg-color: #E2EBFA;\n",
              "      --hover-fill-color: #174EA6;\n",
              "      --disabled-fill-color: #AAA;\n",
              "      --disabled-bg-color: #DDD;\n",
              "  }\n",
              "\n",
              "  [theme=dark] .colab-df-quickchart {\n",
              "      --bg-color: #3B4455;\n",
              "      --fill-color: #D2E3FC;\n",
              "      --hover-bg-color: #434B5C;\n",
              "      --hover-fill-color: #FFFFFF;\n",
              "      --disabled-bg-color: #3B4455;\n",
              "      --disabled-fill-color: #666;\n",
              "  }\n",
              "\n",
              "  .colab-df-quickchart {\n",
              "    background-color: var(--bg-color);\n",
              "    border: none;\n",
              "    border-radius: 50%;\n",
              "    cursor: pointer;\n",
              "    display: none;\n",
              "    fill: var(--fill-color);\n",
              "    height: 32px;\n",
              "    padding: 0;\n",
              "    width: 32px;\n",
              "  }\n",
              "\n",
              "  .colab-df-quickchart:hover {\n",
              "    background-color: var(--hover-bg-color);\n",
              "    box-shadow: 0 1px 2px rgba(60, 64, 67, 0.3), 0 1px 3px 1px rgba(60, 64, 67, 0.15);\n",
              "    fill: var(--button-hover-fill-color);\n",
              "  }\n",
              "\n",
              "  .colab-df-quickchart-complete:disabled,\n",
              "  .colab-df-quickchart-complete:disabled:hover {\n",
              "    background-color: var(--disabled-bg-color);\n",
              "    fill: var(--disabled-fill-color);\n",
              "    box-shadow: none;\n",
              "  }\n",
              "\n",
              "  .colab-df-spinner {\n",
              "    border: 2px solid var(--fill-color);\n",
              "    border-color: transparent;\n",
              "    border-bottom-color: var(--fill-color);\n",
              "    animation:\n",
              "      spin 1s steps(1) infinite;\n",
              "  }\n",
              "\n",
              "  @keyframes spin {\n",
              "    0% {\n",
              "      border-color: transparent;\n",
              "      border-bottom-color: var(--fill-color);\n",
              "      border-left-color: var(--fill-color);\n",
              "    }\n",
              "    20% {\n",
              "      border-color: transparent;\n",
              "      border-left-color: var(--fill-color);\n",
              "      border-top-color: var(--fill-color);\n",
              "    }\n",
              "    30% {\n",
              "      border-color: transparent;\n",
              "      border-left-color: var(--fill-color);\n",
              "      border-top-color: var(--fill-color);\n",
              "      border-right-color: var(--fill-color);\n",
              "    }\n",
              "    40% {\n",
              "      border-color: transparent;\n",
              "      border-right-color: var(--fill-color);\n",
              "      border-top-color: var(--fill-color);\n",
              "    }\n",
              "    60% {\n",
              "      border-color: transparent;\n",
              "      border-right-color: var(--fill-color);\n",
              "    }\n",
              "    80% {\n",
              "      border-color: transparent;\n",
              "      border-right-color: var(--fill-color);\n",
              "      border-bottom-color: var(--fill-color);\n",
              "    }\n",
              "    90% {\n",
              "      border-color: transparent;\n",
              "      border-bottom-color: var(--fill-color);\n",
              "    }\n",
              "  }\n",
              "</style>\n",
              "\n",
              "      <script>\n",
              "        async function quickchart(key) {\n",
              "          const quickchartButtonEl =\n",
              "            document.querySelector('#' + key + ' button');\n",
              "          quickchartButtonEl.disabled = true;  // To prevent multiple clicks.\n",
              "          quickchartButtonEl.classList.add('colab-df-spinner');\n",
              "          try {\n",
              "            const charts = await google.colab.kernel.invokeFunction(\n",
              "                'suggestCharts', [key], {});\n",
              "          } catch (error) {\n",
              "            console.error('Error during call to suggestCharts:', error);\n",
              "          }\n",
              "          quickchartButtonEl.classList.remove('colab-df-spinner');\n",
              "          quickchartButtonEl.classList.add('colab-df-quickchart-complete');\n",
              "        }\n",
              "        (() => {\n",
              "          let quickchartButtonEl =\n",
              "            document.querySelector('#df-381d3418-7b43-4c89-a6ee-4c2c40ee09cc button');\n",
              "          quickchartButtonEl.style.display =\n",
              "            google.colab.kernel.accessAllowed ? 'block' : 'none';\n",
              "        })();\n",
              "      </script>\n",
              "    </div>\n",
              "\n",
              "    </div>\n",
              "  </div>\n"
            ],
            "application/vnd.google.colaboratory.intrinsic+json": {
              "type": "dataframe",
              "repr_error": "0"
            }
          },
          "metadata": {},
          "execution_count": 4
        }
      ]
    },
    {
      "cell_type": "markdown",
      "source": [
        "**Why?**\n",
        "\n",
        "Viewing the top and bottom of the dataset gives me a sense of how the data looks. It helps spot inconsistencies, entry errors, or formatting issues early on"
      ],
      "metadata": {
        "id": "SxXqfRWO6kKH"
      }
    },
    {
      "cell_type": "markdown",
      "source": [
        "#### Inspect Data Types"
      ],
      "metadata": {
        "id": "SmXcbzOK6ziM"
      }
    },
    {
      "cell_type": "code",
      "source": [
        "vgsales.dtypes"
      ],
      "metadata": {
        "colab": {
          "base_uri": "https://localhost:8080/",
          "height": 586
        },
        "id": "ka_v073b6fWU",
        "outputId": "cfe856e0-a105-436c-b8c4-4ccd3d70e7c3"
      },
      "execution_count": 5,
      "outputs": [
        {
          "output_type": "execute_result",
          "data": {
            "text/plain": [
              "Name                object\n",
              "Platform            object\n",
              "Year_of_Release    float64\n",
              "Genre               object\n",
              "Publisher           object\n",
              "NA_Sales           float64\n",
              "EU_Sales           float64\n",
              "JP_Sales           float64\n",
              "Other_Sales        float64\n",
              "Global_Sales       float64\n",
              "Critic_Score       float64\n",
              "Critic_Count       float64\n",
              "User_Score          object\n",
              "User_Count         float64\n",
              "Developer           object\n",
              "Rating              object\n",
              "dtype: object"
            ],
            "text/html": [
              "<div>\n",
              "<style scoped>\n",
              "    .dataframe tbody tr th:only-of-type {\n",
              "        vertical-align: middle;\n",
              "    }\n",
              "\n",
              "    .dataframe tbody tr th {\n",
              "        vertical-align: top;\n",
              "    }\n",
              "\n",
              "    .dataframe thead th {\n",
              "        text-align: right;\n",
              "    }\n",
              "</style>\n",
              "<table border=\"1\" class=\"dataframe\">\n",
              "  <thead>\n",
              "    <tr style=\"text-align: right;\">\n",
              "      <th></th>\n",
              "      <th>0</th>\n",
              "    </tr>\n",
              "  </thead>\n",
              "  <tbody>\n",
              "    <tr>\n",
              "      <th>Name</th>\n",
              "      <td>object</td>\n",
              "    </tr>\n",
              "    <tr>\n",
              "      <th>Platform</th>\n",
              "      <td>object</td>\n",
              "    </tr>\n",
              "    <tr>\n",
              "      <th>Year_of_Release</th>\n",
              "      <td>float64</td>\n",
              "    </tr>\n",
              "    <tr>\n",
              "      <th>Genre</th>\n",
              "      <td>object</td>\n",
              "    </tr>\n",
              "    <tr>\n",
              "      <th>Publisher</th>\n",
              "      <td>object</td>\n",
              "    </tr>\n",
              "    <tr>\n",
              "      <th>NA_Sales</th>\n",
              "      <td>float64</td>\n",
              "    </tr>\n",
              "    <tr>\n",
              "      <th>EU_Sales</th>\n",
              "      <td>float64</td>\n",
              "    </tr>\n",
              "    <tr>\n",
              "      <th>JP_Sales</th>\n",
              "      <td>float64</td>\n",
              "    </tr>\n",
              "    <tr>\n",
              "      <th>Other_Sales</th>\n",
              "      <td>float64</td>\n",
              "    </tr>\n",
              "    <tr>\n",
              "      <th>Global_Sales</th>\n",
              "      <td>float64</td>\n",
              "    </tr>\n",
              "    <tr>\n",
              "      <th>Critic_Score</th>\n",
              "      <td>float64</td>\n",
              "    </tr>\n",
              "    <tr>\n",
              "      <th>Critic_Count</th>\n",
              "      <td>float64</td>\n",
              "    </tr>\n",
              "    <tr>\n",
              "      <th>User_Score</th>\n",
              "      <td>object</td>\n",
              "    </tr>\n",
              "    <tr>\n",
              "      <th>User_Count</th>\n",
              "      <td>float64</td>\n",
              "    </tr>\n",
              "    <tr>\n",
              "      <th>Developer</th>\n",
              "      <td>object</td>\n",
              "    </tr>\n",
              "    <tr>\n",
              "      <th>Rating</th>\n",
              "      <td>object</td>\n",
              "    </tr>\n",
              "  </tbody>\n",
              "</table>\n",
              "</div><br><label><b>dtype:</b> object</label>"
            ]
          },
          "metadata": {},
          "execution_count": 5
        }
      ]
    },
    {
      "cell_type": "markdown",
      "source": [
        "**Why?**\n",
        "\n",
        "I use `.dtypes` to check what types each column. This is imprtant because sometimes the data can be misread. For example sometimes numbers are read as text abd dates might be recognised correctly. It helps catch these issues before cleaning the data (Ahmed, 2024a)."
      ],
      "metadata": {
        "id": "QuI8iQvC62gS"
      }
    },
    {
      "cell_type": "markdown",
      "source": [
        "#### Dataset Summary Information"
      ],
      "metadata": {
        "id": "tOp1eRUiCwC4"
      }
    },
    {
      "cell_type": "code",
      "source": [
        "vgsales.info()"
      ],
      "metadata": {
        "colab": {
          "base_uri": "https://localhost:8080/",
          "height": 0
        },
        "id": "yWs94gEcqyqE",
        "outputId": "ec9ca03e-fe41-4c87-c470-9c34332c52d1",
        "collapsed": true
      },
      "execution_count": 6,
      "outputs": [
        {
          "output_type": "stream",
          "name": "stdout",
          "text": [
            "<class 'pandas.core.frame.DataFrame'>\n",
            "RangeIndex: 16719 entries, 0 to 16718\n",
            "Data columns (total 16 columns):\n",
            " #   Column           Non-Null Count  Dtype  \n",
            "---  ------           --------------  -----  \n",
            " 0   Name             16717 non-null  object \n",
            " 1   Platform         16719 non-null  object \n",
            " 2   Year_of_Release  16450 non-null  float64\n",
            " 3   Genre            16717 non-null  object \n",
            " 4   Publisher        16665 non-null  object \n",
            " 5   NA_Sales         16719 non-null  float64\n",
            " 6   EU_Sales         16719 non-null  float64\n",
            " 7   JP_Sales         16719 non-null  float64\n",
            " 8   Other_Sales      16719 non-null  float64\n",
            " 9   Global_Sales     16719 non-null  float64\n",
            " 10  Critic_Score     8137 non-null   float64\n",
            " 11  Critic_Count     8137 non-null   float64\n",
            " 12  User_Score       10015 non-null  object \n",
            " 13  User_Count       7590 non-null   float64\n",
            " 14  Developer        10096 non-null  object \n",
            " 15  Rating           9950 non-null   object \n",
            "dtypes: float64(9), object(7)\n",
            "memory usage: 2.0+ MB\n"
          ]
        }
      ]
    },
    {
      "cell_type": "markdown",
      "source": [
        "**Why?**\n",
        "\n",
        "I also use `.info()` right after to see the number of non-null values, data types, and memory usage. It gives a clearer picture of the dataset's structure and helps spot any missing values (Ahmed, 2024a)."
      ],
      "metadata": {
        "id": "5PhBu2QzDIC7"
      }
    },
    {
      "cell_type": "markdown",
      "source": [
        "#### Dataset Shape"
      ],
      "metadata": {
        "id": "Bt6K0U6iDwF9"
      }
    },
    {
      "cell_type": "code",
      "source": [
        "print(\"Rows and columns in the dataset:\", vgsales.shape)"
      ],
      "metadata": {
        "colab": {
          "base_uri": "https://localhost:8080/",
          "height": 0
        },
        "id": "a-JubtiSEI2S",
        "outputId": "4d647f8e-550f-44de-a753-c3291bc09b56"
      },
      "execution_count": 7,
      "outputs": [
        {
          "output_type": "stream",
          "name": "stdout",
          "text": [
            "Rows and columns in the dataset: (16719, 16)\n"
          ]
        }
      ]
    },
    {
      "cell_type": "markdown",
      "source": [
        "**Why?**\n",
        "\n",
        "I check the size of the dataset using `.shape` to inderstand how big it is. A small dataset might not need that much complex analysis, but a large one could need a lot more detailed work."
      ],
      "metadata": {
        "id": "O6LieGefD8vn"
      }
    },
    {
      "cell_type": "markdown",
      "source": [
        "#### Summary Statistics"
      ],
      "metadata": {
        "id": "Xc2cKIHAEa8S"
      }
    },
    {
      "cell_type": "code",
      "source": [
        "vgsales.describe(include='all')"
      ],
      "metadata": {
        "colab": {
          "base_uri": "https://localhost:8080/",
          "height": 395
        },
        "id": "s62yCpfgEcrj",
        "outputId": "220d442d-ef6f-48b1-f720-46ea9be7085f"
      },
      "execution_count": 8,
      "outputs": [
        {
          "output_type": "execute_result",
          "data": {
            "text/plain": [
              "                               Name Platform  Year_of_Release   Genre  \\\n",
              "count                         16717    16719     16450.000000   16717   \n",
              "unique                        11562       31              NaN      12   \n",
              "top     Need for Speed: Most Wanted      PS2              NaN  Action   \n",
              "freq                             12     2161              NaN    3370   \n",
              "mean                            NaN      NaN      2006.487356     NaN   \n",
              "std                             NaN      NaN         5.878995     NaN   \n",
              "min                             NaN      NaN      1980.000000     NaN   \n",
              "25%                             NaN      NaN      2003.000000     NaN   \n",
              "50%                             NaN      NaN      2007.000000     NaN   \n",
              "75%                             NaN      NaN      2010.000000     NaN   \n",
              "max                             NaN      NaN      2020.000000     NaN   \n",
              "\n",
              "              Publisher      NA_Sales      EU_Sales      JP_Sales  \\\n",
              "count             16665  16719.000000  16719.000000  16719.000000   \n",
              "unique              581           NaN           NaN           NaN   \n",
              "top     Electronic Arts           NaN           NaN           NaN   \n",
              "freq               1356           NaN           NaN           NaN   \n",
              "mean                NaN      0.263330      0.145025      0.077602   \n",
              "std                 NaN      0.813514      0.503283      0.308818   \n",
              "min                 NaN      0.000000      0.000000      0.000000   \n",
              "25%                 NaN      0.000000      0.000000      0.000000   \n",
              "50%                 NaN      0.080000      0.020000      0.000000   \n",
              "75%                 NaN      0.240000      0.110000      0.040000   \n",
              "max                 NaN     41.360000     28.960000     10.220000   \n",
              "\n",
              "         Other_Sales  Global_Sales  Critic_Score  Critic_Count User_Score  \\\n",
              "count   16719.000000  16719.000000   8137.000000   8137.000000      10015   \n",
              "unique           NaN           NaN           NaN           NaN         96   \n",
              "top              NaN           NaN           NaN           NaN        tbd   \n",
              "freq             NaN           NaN           NaN           NaN       2425   \n",
              "mean        0.047332      0.533543     68.967679     26.360821        NaN   \n",
              "std         0.186710      1.547935     13.938165     18.980495        NaN   \n",
              "min         0.000000      0.010000     13.000000      3.000000        NaN   \n",
              "25%         0.000000      0.060000     60.000000     12.000000        NaN   \n",
              "50%         0.010000      0.170000     71.000000     21.000000        NaN   \n",
              "75%         0.030000      0.470000     79.000000     36.000000        NaN   \n",
              "max        10.570000     82.530000     98.000000    113.000000        NaN   \n",
              "\n",
              "          User_Count Developer Rating  \n",
              "count    7590.000000     10096   9950  \n",
              "unique           NaN      1696      8  \n",
              "top              NaN   Ubisoft      E  \n",
              "freq             NaN       204   3991  \n",
              "mean      162.229908       NaN    NaN  \n",
              "std       561.282326       NaN    NaN  \n",
              "min         4.000000       NaN    NaN  \n",
              "25%        10.000000       NaN    NaN  \n",
              "50%        24.000000       NaN    NaN  \n",
              "75%        81.000000       NaN    NaN  \n",
              "max     10665.000000       NaN    NaN  "
            ],
            "text/html": [
              "\n",
              "  <div id=\"df-552e7ca3-8403-4b07-b6ce-4a47f73cefad\" class=\"colab-df-container\">\n",
              "    <div>\n",
              "<style scoped>\n",
              "    .dataframe tbody tr th:only-of-type {\n",
              "        vertical-align: middle;\n",
              "    }\n",
              "\n",
              "    .dataframe tbody tr th {\n",
              "        vertical-align: top;\n",
              "    }\n",
              "\n",
              "    .dataframe thead th {\n",
              "        text-align: right;\n",
              "    }\n",
              "</style>\n",
              "<table border=\"1\" class=\"dataframe\">\n",
              "  <thead>\n",
              "    <tr style=\"text-align: right;\">\n",
              "      <th></th>\n",
              "      <th>Name</th>\n",
              "      <th>Platform</th>\n",
              "      <th>Year_of_Release</th>\n",
              "      <th>Genre</th>\n",
              "      <th>Publisher</th>\n",
              "      <th>NA_Sales</th>\n",
              "      <th>EU_Sales</th>\n",
              "      <th>JP_Sales</th>\n",
              "      <th>Other_Sales</th>\n",
              "      <th>Global_Sales</th>\n",
              "      <th>Critic_Score</th>\n",
              "      <th>Critic_Count</th>\n",
              "      <th>User_Score</th>\n",
              "      <th>User_Count</th>\n",
              "      <th>Developer</th>\n",
              "      <th>Rating</th>\n",
              "    </tr>\n",
              "  </thead>\n",
              "  <tbody>\n",
              "    <tr>\n",
              "      <th>count</th>\n",
              "      <td>16717</td>\n",
              "      <td>16719</td>\n",
              "      <td>16450.000000</td>\n",
              "      <td>16717</td>\n",
              "      <td>16665</td>\n",
              "      <td>16719.000000</td>\n",
              "      <td>16719.000000</td>\n",
              "      <td>16719.000000</td>\n",
              "      <td>16719.000000</td>\n",
              "      <td>16719.000000</td>\n",
              "      <td>8137.000000</td>\n",
              "      <td>8137.000000</td>\n",
              "      <td>10015</td>\n",
              "      <td>7590.000000</td>\n",
              "      <td>10096</td>\n",
              "      <td>9950</td>\n",
              "    </tr>\n",
              "    <tr>\n",
              "      <th>unique</th>\n",
              "      <td>11562</td>\n",
              "      <td>31</td>\n",
              "      <td>NaN</td>\n",
              "      <td>12</td>\n",
              "      <td>581</td>\n",
              "      <td>NaN</td>\n",
              "      <td>NaN</td>\n",
              "      <td>NaN</td>\n",
              "      <td>NaN</td>\n",
              "      <td>NaN</td>\n",
              "      <td>NaN</td>\n",
              "      <td>NaN</td>\n",
              "      <td>96</td>\n",
              "      <td>NaN</td>\n",
              "      <td>1696</td>\n",
              "      <td>8</td>\n",
              "    </tr>\n",
              "    <tr>\n",
              "      <th>top</th>\n",
              "      <td>Need for Speed: Most Wanted</td>\n",
              "      <td>PS2</td>\n",
              "      <td>NaN</td>\n",
              "      <td>Action</td>\n",
              "      <td>Electronic Arts</td>\n",
              "      <td>NaN</td>\n",
              "      <td>NaN</td>\n",
              "      <td>NaN</td>\n",
              "      <td>NaN</td>\n",
              "      <td>NaN</td>\n",
              "      <td>NaN</td>\n",
              "      <td>NaN</td>\n",
              "      <td>tbd</td>\n",
              "      <td>NaN</td>\n",
              "      <td>Ubisoft</td>\n",
              "      <td>E</td>\n",
              "    </tr>\n",
              "    <tr>\n",
              "      <th>freq</th>\n",
              "      <td>12</td>\n",
              "      <td>2161</td>\n",
              "      <td>NaN</td>\n",
              "      <td>3370</td>\n",
              "      <td>1356</td>\n",
              "      <td>NaN</td>\n",
              "      <td>NaN</td>\n",
              "      <td>NaN</td>\n",
              "      <td>NaN</td>\n",
              "      <td>NaN</td>\n",
              "      <td>NaN</td>\n",
              "      <td>NaN</td>\n",
              "      <td>2425</td>\n",
              "      <td>NaN</td>\n",
              "      <td>204</td>\n",
              "      <td>3991</td>\n",
              "    </tr>\n",
              "    <tr>\n",
              "      <th>mean</th>\n",
              "      <td>NaN</td>\n",
              "      <td>NaN</td>\n",
              "      <td>2006.487356</td>\n",
              "      <td>NaN</td>\n",
              "      <td>NaN</td>\n",
              "      <td>0.263330</td>\n",
              "      <td>0.145025</td>\n",
              "      <td>0.077602</td>\n",
              "      <td>0.047332</td>\n",
              "      <td>0.533543</td>\n",
              "      <td>68.967679</td>\n",
              "      <td>26.360821</td>\n",
              "      <td>NaN</td>\n",
              "      <td>162.229908</td>\n",
              "      <td>NaN</td>\n",
              "      <td>NaN</td>\n",
              "    </tr>\n",
              "    <tr>\n",
              "      <th>std</th>\n",
              "      <td>NaN</td>\n",
              "      <td>NaN</td>\n",
              "      <td>5.878995</td>\n",
              "      <td>NaN</td>\n",
              "      <td>NaN</td>\n",
              "      <td>0.813514</td>\n",
              "      <td>0.503283</td>\n",
              "      <td>0.308818</td>\n",
              "      <td>0.186710</td>\n",
              "      <td>1.547935</td>\n",
              "      <td>13.938165</td>\n",
              "      <td>18.980495</td>\n",
              "      <td>NaN</td>\n",
              "      <td>561.282326</td>\n",
              "      <td>NaN</td>\n",
              "      <td>NaN</td>\n",
              "    </tr>\n",
              "    <tr>\n",
              "      <th>min</th>\n",
              "      <td>NaN</td>\n",
              "      <td>NaN</td>\n",
              "      <td>1980.000000</td>\n",
              "      <td>NaN</td>\n",
              "      <td>NaN</td>\n",
              "      <td>0.000000</td>\n",
              "      <td>0.000000</td>\n",
              "      <td>0.000000</td>\n",
              "      <td>0.000000</td>\n",
              "      <td>0.010000</td>\n",
              "      <td>13.000000</td>\n",
              "      <td>3.000000</td>\n",
              "      <td>NaN</td>\n",
              "      <td>4.000000</td>\n",
              "      <td>NaN</td>\n",
              "      <td>NaN</td>\n",
              "    </tr>\n",
              "    <tr>\n",
              "      <th>25%</th>\n",
              "      <td>NaN</td>\n",
              "      <td>NaN</td>\n",
              "      <td>2003.000000</td>\n",
              "      <td>NaN</td>\n",
              "      <td>NaN</td>\n",
              "      <td>0.000000</td>\n",
              "      <td>0.000000</td>\n",
              "      <td>0.000000</td>\n",
              "      <td>0.000000</td>\n",
              "      <td>0.060000</td>\n",
              "      <td>60.000000</td>\n",
              "      <td>12.000000</td>\n",
              "      <td>NaN</td>\n",
              "      <td>10.000000</td>\n",
              "      <td>NaN</td>\n",
              "      <td>NaN</td>\n",
              "    </tr>\n",
              "    <tr>\n",
              "      <th>50%</th>\n",
              "      <td>NaN</td>\n",
              "      <td>NaN</td>\n",
              "      <td>2007.000000</td>\n",
              "      <td>NaN</td>\n",
              "      <td>NaN</td>\n",
              "      <td>0.080000</td>\n",
              "      <td>0.020000</td>\n",
              "      <td>0.000000</td>\n",
              "      <td>0.010000</td>\n",
              "      <td>0.170000</td>\n",
              "      <td>71.000000</td>\n",
              "      <td>21.000000</td>\n",
              "      <td>NaN</td>\n",
              "      <td>24.000000</td>\n",
              "      <td>NaN</td>\n",
              "      <td>NaN</td>\n",
              "    </tr>\n",
              "    <tr>\n",
              "      <th>75%</th>\n",
              "      <td>NaN</td>\n",
              "      <td>NaN</td>\n",
              "      <td>2010.000000</td>\n",
              "      <td>NaN</td>\n",
              "      <td>NaN</td>\n",
              "      <td>0.240000</td>\n",
              "      <td>0.110000</td>\n",
              "      <td>0.040000</td>\n",
              "      <td>0.030000</td>\n",
              "      <td>0.470000</td>\n",
              "      <td>79.000000</td>\n",
              "      <td>36.000000</td>\n",
              "      <td>NaN</td>\n",
              "      <td>81.000000</td>\n",
              "      <td>NaN</td>\n",
              "      <td>NaN</td>\n",
              "    </tr>\n",
              "    <tr>\n",
              "      <th>max</th>\n",
              "      <td>NaN</td>\n",
              "      <td>NaN</td>\n",
              "      <td>2020.000000</td>\n",
              "      <td>NaN</td>\n",
              "      <td>NaN</td>\n",
              "      <td>41.360000</td>\n",
              "      <td>28.960000</td>\n",
              "      <td>10.220000</td>\n",
              "      <td>10.570000</td>\n",
              "      <td>82.530000</td>\n",
              "      <td>98.000000</td>\n",
              "      <td>113.000000</td>\n",
              "      <td>NaN</td>\n",
              "      <td>10665.000000</td>\n",
              "      <td>NaN</td>\n",
              "      <td>NaN</td>\n",
              "    </tr>\n",
              "  </tbody>\n",
              "</table>\n",
              "</div>\n",
              "    <div class=\"colab-df-buttons\">\n",
              "\n",
              "  <div class=\"colab-df-container\">\n",
              "    <button class=\"colab-df-convert\" onclick=\"convertToInteractive('df-552e7ca3-8403-4b07-b6ce-4a47f73cefad')\"\n",
              "            title=\"Convert this dataframe to an interactive table.\"\n",
              "            style=\"display:none;\">\n",
              "\n",
              "  <svg xmlns=\"http://www.w3.org/2000/svg\" height=\"24px\" viewBox=\"0 -960 960 960\">\n",
              "    <path d=\"M120-120v-720h720v720H120Zm60-500h600v-160H180v160Zm220 220h160v-160H400v160Zm0 220h160v-160H400v160ZM180-400h160v-160H180v160Zm440 0h160v-160H620v160ZM180-180h160v-160H180v160Zm440 0h160v-160H620v160Z\"/>\n",
              "  </svg>\n",
              "    </button>\n",
              "\n",
              "  <style>\n",
              "    .colab-df-container {\n",
              "      display:flex;\n",
              "      gap: 12px;\n",
              "    }\n",
              "\n",
              "    .colab-df-convert {\n",
              "      background-color: #E8F0FE;\n",
              "      border: none;\n",
              "      border-radius: 50%;\n",
              "      cursor: pointer;\n",
              "      display: none;\n",
              "      fill: #1967D2;\n",
              "      height: 32px;\n",
              "      padding: 0 0 0 0;\n",
              "      width: 32px;\n",
              "    }\n",
              "\n",
              "    .colab-df-convert:hover {\n",
              "      background-color: #E2EBFA;\n",
              "      box-shadow: 0px 1px 2px rgba(60, 64, 67, 0.3), 0px 1px 3px 1px rgba(60, 64, 67, 0.15);\n",
              "      fill: #174EA6;\n",
              "    }\n",
              "\n",
              "    .colab-df-buttons div {\n",
              "      margin-bottom: 4px;\n",
              "    }\n",
              "\n",
              "    [theme=dark] .colab-df-convert {\n",
              "      background-color: #3B4455;\n",
              "      fill: #D2E3FC;\n",
              "    }\n",
              "\n",
              "    [theme=dark] .colab-df-convert:hover {\n",
              "      background-color: #434B5C;\n",
              "      box-shadow: 0px 1px 3px 1px rgba(0, 0, 0, 0.15);\n",
              "      filter: drop-shadow(0px 1px 2px rgba(0, 0, 0, 0.3));\n",
              "      fill: #FFFFFF;\n",
              "    }\n",
              "  </style>\n",
              "\n",
              "    <script>\n",
              "      const buttonEl =\n",
              "        document.querySelector('#df-552e7ca3-8403-4b07-b6ce-4a47f73cefad button.colab-df-convert');\n",
              "      buttonEl.style.display =\n",
              "        google.colab.kernel.accessAllowed ? 'block' : 'none';\n",
              "\n",
              "      async function convertToInteractive(key) {\n",
              "        const element = document.querySelector('#df-552e7ca3-8403-4b07-b6ce-4a47f73cefad');\n",
              "        const dataTable =\n",
              "          await google.colab.kernel.invokeFunction('convertToInteractive',\n",
              "                                                    [key], {});\n",
              "        if (!dataTable) return;\n",
              "\n",
              "        const docLinkHtml = 'Like what you see? Visit the ' +\n",
              "          '<a target=\"_blank\" href=https://colab.research.google.com/notebooks/data_table.ipynb>data table notebook</a>'\n",
              "          + ' to learn more about interactive tables.';\n",
              "        element.innerHTML = '';\n",
              "        dataTable['output_type'] = 'display_data';\n",
              "        await google.colab.output.renderOutput(dataTable, element);\n",
              "        const docLink = document.createElement('div');\n",
              "        docLink.innerHTML = docLinkHtml;\n",
              "        element.appendChild(docLink);\n",
              "      }\n",
              "    </script>\n",
              "  </div>\n",
              "\n",
              "\n",
              "    <div id=\"df-573d527b-fee3-4de2-9439-3edb0aef1715\">\n",
              "      <button class=\"colab-df-quickchart\" onclick=\"quickchart('df-573d527b-fee3-4de2-9439-3edb0aef1715')\"\n",
              "                title=\"Suggest charts\"\n",
              "                style=\"display:none;\">\n",
              "\n",
              "<svg xmlns=\"http://www.w3.org/2000/svg\" height=\"24px\"viewBox=\"0 0 24 24\"\n",
              "     width=\"24px\">\n",
              "    <g>\n",
              "        <path d=\"M19 3H5c-1.1 0-2 .9-2 2v14c0 1.1.9 2 2 2h14c1.1 0 2-.9 2-2V5c0-1.1-.9-2-2-2zM9 17H7v-7h2v7zm4 0h-2V7h2v10zm4 0h-2v-4h2v4z\"/>\n",
              "    </g>\n",
              "</svg>\n",
              "      </button>\n",
              "\n",
              "<style>\n",
              "  .colab-df-quickchart {\n",
              "      --bg-color: #E8F0FE;\n",
              "      --fill-color: #1967D2;\n",
              "      --hover-bg-color: #E2EBFA;\n",
              "      --hover-fill-color: #174EA6;\n",
              "      --disabled-fill-color: #AAA;\n",
              "      --disabled-bg-color: #DDD;\n",
              "  }\n",
              "\n",
              "  [theme=dark] .colab-df-quickchart {\n",
              "      --bg-color: #3B4455;\n",
              "      --fill-color: #D2E3FC;\n",
              "      --hover-bg-color: #434B5C;\n",
              "      --hover-fill-color: #FFFFFF;\n",
              "      --disabled-bg-color: #3B4455;\n",
              "      --disabled-fill-color: #666;\n",
              "  }\n",
              "\n",
              "  .colab-df-quickchart {\n",
              "    background-color: var(--bg-color);\n",
              "    border: none;\n",
              "    border-radius: 50%;\n",
              "    cursor: pointer;\n",
              "    display: none;\n",
              "    fill: var(--fill-color);\n",
              "    height: 32px;\n",
              "    padding: 0;\n",
              "    width: 32px;\n",
              "  }\n",
              "\n",
              "  .colab-df-quickchart:hover {\n",
              "    background-color: var(--hover-bg-color);\n",
              "    box-shadow: 0 1px 2px rgba(60, 64, 67, 0.3), 0 1px 3px 1px rgba(60, 64, 67, 0.15);\n",
              "    fill: var(--button-hover-fill-color);\n",
              "  }\n",
              "\n",
              "  .colab-df-quickchart-complete:disabled,\n",
              "  .colab-df-quickchart-complete:disabled:hover {\n",
              "    background-color: var(--disabled-bg-color);\n",
              "    fill: var(--disabled-fill-color);\n",
              "    box-shadow: none;\n",
              "  }\n",
              "\n",
              "  .colab-df-spinner {\n",
              "    border: 2px solid var(--fill-color);\n",
              "    border-color: transparent;\n",
              "    border-bottom-color: var(--fill-color);\n",
              "    animation:\n",
              "      spin 1s steps(1) infinite;\n",
              "  }\n",
              "\n",
              "  @keyframes spin {\n",
              "    0% {\n",
              "      border-color: transparent;\n",
              "      border-bottom-color: var(--fill-color);\n",
              "      border-left-color: var(--fill-color);\n",
              "    }\n",
              "    20% {\n",
              "      border-color: transparent;\n",
              "      border-left-color: var(--fill-color);\n",
              "      border-top-color: var(--fill-color);\n",
              "    }\n",
              "    30% {\n",
              "      border-color: transparent;\n",
              "      border-left-color: var(--fill-color);\n",
              "      border-top-color: var(--fill-color);\n",
              "      border-right-color: var(--fill-color);\n",
              "    }\n",
              "    40% {\n",
              "      border-color: transparent;\n",
              "      border-right-color: var(--fill-color);\n",
              "      border-top-color: var(--fill-color);\n",
              "    }\n",
              "    60% {\n",
              "      border-color: transparent;\n",
              "      border-right-color: var(--fill-color);\n",
              "    }\n",
              "    80% {\n",
              "      border-color: transparent;\n",
              "      border-right-color: var(--fill-color);\n",
              "      border-bottom-color: var(--fill-color);\n",
              "    }\n",
              "    90% {\n",
              "      border-color: transparent;\n",
              "      border-bottom-color: var(--fill-color);\n",
              "    }\n",
              "  }\n",
              "</style>\n",
              "\n",
              "      <script>\n",
              "        async function quickchart(key) {\n",
              "          const quickchartButtonEl =\n",
              "            document.querySelector('#' + key + ' button');\n",
              "          quickchartButtonEl.disabled = true;  // To prevent multiple clicks.\n",
              "          quickchartButtonEl.classList.add('colab-df-spinner');\n",
              "          try {\n",
              "            const charts = await google.colab.kernel.invokeFunction(\n",
              "                'suggestCharts', [key], {});\n",
              "          } catch (error) {\n",
              "            console.error('Error during call to suggestCharts:', error);\n",
              "          }\n",
              "          quickchartButtonEl.classList.remove('colab-df-spinner');\n",
              "          quickchartButtonEl.classList.add('colab-df-quickchart-complete');\n",
              "        }\n",
              "        (() => {\n",
              "          let quickchartButtonEl =\n",
              "            document.querySelector('#df-573d527b-fee3-4de2-9439-3edb0aef1715 button');\n",
              "          quickchartButtonEl.style.display =\n",
              "            google.colab.kernel.accessAllowed ? 'block' : 'none';\n",
              "        })();\n",
              "      </script>\n",
              "    </div>\n",
              "\n",
              "    </div>\n",
              "  </div>\n"
            ],
            "application/vnd.google.colaboratory.intrinsic+json": {
              "type": "dataframe",
              "summary": "{\n  \"name\": \"vgsales\",\n  \"rows\": 11,\n  \"fields\": [\n    {\n      \"column\": \"Name\",\n      \"properties\": {\n        \"dtype\": \"category\",\n        \"num_unique_values\": 4,\n        \"samples\": [\n          11562,\n          \"12\",\n          \"16717\"\n        ],\n        \"semantic_type\": \"\",\n        \"description\": \"\"\n      }\n    },\n    {\n      \"column\": \"Platform\",\n      \"properties\": {\n        \"dtype\": \"category\",\n        \"num_unique_values\": 4,\n        \"samples\": [\n          31,\n          \"2161\",\n          \"16719\"\n        ],\n        \"semantic_type\": \"\",\n        \"description\": \"\"\n      }\n    },\n    {\n      \"column\": \"Year_of_Release\",\n      \"properties\": {\n        \"dtype\": \"number\",\n        \"std\": 5254.981785426037,\n        \"min\": 5.87899476834851,\n        \"max\": 16450.0,\n        \"num_unique_values\": 8,\n        \"samples\": [\n          2006.4873556231003,\n          2007.0,\n          16450.0\n        ],\n        \"semantic_type\": \"\",\n        \"description\": \"\"\n      }\n    },\n    {\n      \"column\": \"Genre\",\n      \"properties\": {\n        \"dtype\": \"category\",\n        \"num_unique_values\": 4,\n        \"samples\": [\n          12,\n          \"3370\",\n          \"16717\"\n        ],\n        \"semantic_type\": \"\",\n        \"description\": \"\"\n      }\n    },\n    {\n      \"column\": \"Publisher\",\n      \"properties\": {\n        \"dtype\": \"category\",\n        \"num_unique_values\": 4,\n        \"samples\": [\n          581,\n          \"1356\",\n          \"16665\"\n        ],\n        \"semantic_type\": \"\",\n        \"description\": \"\"\n      }\n    },\n    {\n      \"column\": \"NA_Sales\",\n      \"properties\": {\n        \"dtype\": \"number\",\n        \"std\": 5908.917121990064,\n        \"min\": 0.0,\n        \"max\": 16719.0,\n        \"num_unique_values\": 7,\n        \"samples\": [\n          16719.0,\n          0.26333034272384714,\n          0.24\n        ],\n        \"semantic_type\": \"\",\n        \"description\": \"\"\n      }\n    },\n    {\n      \"column\": \"EU_Sales\",\n      \"properties\": {\n        \"dtype\": \"number\",\n        \"std\": 5909.565739474532,\n        \"min\": 0.0,\n        \"max\": 16719.0,\n        \"num_unique_values\": 7,\n        \"samples\": [\n          16719.0,\n          0.14502482205873557,\n          0.11\n        ],\n        \"semantic_type\": \"\",\n        \"description\": \"\"\n      }\n    },\n    {\n      \"column\": \"JP_Sales\",\n      \"properties\": {\n        \"dtype\": \"number\",\n        \"std\": 5910.522479723717,\n        \"min\": 0.0,\n        \"max\": 16719.0,\n        \"num_unique_values\": 6,\n        \"samples\": [\n          16719.0,\n          0.07760212931395419,\n          10.22\n        ],\n        \"semantic_type\": \"\",\n        \"description\": \"\"\n      }\n    },\n    {\n      \"column\": \"Other_Sales\",\n      \"properties\": {\n        \"dtype\": \"number\",\n        \"std\": 5910.512578154453,\n        \"min\": 0.0,\n        \"max\": 16719.0,\n        \"num_unique_values\": 7,\n        \"samples\": [\n          16719.0,\n          0.04733177821640051,\n          0.03\n        ],\n        \"semantic_type\": \"\",\n        \"description\": \"\"\n      }\n    },\n    {\n      \"column\": \"Global_Sales\",\n      \"properties\": {\n        \"dtype\": \"number\",\n        \"std\": 5906.819576847614,\n        \"min\": 0.01,\n        \"max\": 16719.0,\n        \"num_unique_values\": 8,\n        \"samples\": [\n          0.5335426759973684,\n          0.17,\n          16719.0\n        ],\n        \"semantic_type\": \"\",\n        \"description\": \"\"\n      }\n    },\n    {\n      \"column\": \"Critic_Score\",\n      \"properties\": {\n        \"dtype\": \"number\",\n        \"std\": 2856.6211493303676,\n        \"min\": 13.0,\n        \"max\": 8137.0,\n        \"num_unique_values\": 8,\n        \"samples\": [\n          68.96767850559173,\n          71.0,\n          8137.0\n        ],\n        \"semantic_type\": \"\",\n        \"description\": \"\"\n      }\n    },\n    {\n      \"column\": \"Critic_Count\",\n      \"properties\": {\n        \"dtype\": \"number\",\n        \"std\": 2865.432728872218,\n        \"min\": 3.0,\n        \"max\": 8137.0,\n        \"num_unique_values\": 8,\n        \"samples\": [\n          26.360820941378886,\n          21.0,\n          8137.0\n        ],\n        \"semantic_type\": \"\",\n        \"description\": \"\"\n      }\n    },\n    {\n      \"column\": \"User_Score\",\n      \"properties\": {\n        \"dtype\": \"category\",\n        \"num_unique_values\": 4,\n        \"samples\": [\n          96,\n          \"2425\",\n          \"10015\"\n        ],\n        \"semantic_type\": \"\",\n        \"description\": \"\"\n      }\n    },\n    {\n      \"column\": \"User_Count\",\n      \"properties\": {\n        \"dtype\": \"number\",\n        \"std\": 4244.48487033741,\n        \"min\": 4.0,\n        \"max\": 10665.0,\n        \"num_unique_values\": 8,\n        \"samples\": [\n          162.22990777338603,\n          24.0,\n          7590.0\n        ],\n        \"semantic_type\": \"\",\n        \"description\": \"\"\n      }\n    },\n    {\n      \"column\": \"Developer\",\n      \"properties\": {\n        \"dtype\": \"category\",\n        \"num_unique_values\": 4,\n        \"samples\": [\n          1696,\n          \"204\",\n          \"10096\"\n        ],\n        \"semantic_type\": \"\",\n        \"description\": \"\"\n      }\n    },\n    {\n      \"column\": \"Rating\",\n      \"properties\": {\n        \"dtype\": \"category\",\n        \"num_unique_values\": 4,\n        \"samples\": [\n          8,\n          \"3991\",\n          \"9950\"\n        ],\n        \"semantic_type\": \"\",\n        \"description\": \"\"\n      }\n    }\n  ]\n}"
            }
          },
          "metadata": {},
          "execution_count": 8
        }
      ]
    },
    {
      "cell_type": "markdown",
      "source": [
        "**Why?**\n",
        "I use `.describe(include='all')` to get summary information for all columns. This shows me things like counts for categories, min/max values, and averages for numbers. It helps me see how the data is spread out, spot outliers, and find any issues (Ahmed, 2024a).\n"
      ],
      "metadata": {
        "id": "ptFdv_JyEdII"
      }
    },
    {
      "cell_type": "markdown",
      "source": [
        "#### Checking for Missing Values"
      ],
      "metadata": {
        "id": "BJnTwuxCE-gC"
      }
    },
    {
      "cell_type": "code",
      "source": [
        "print(\"Missing values in each column:\")\n",
        "vgsales.isnull().sum()"
      ],
      "metadata": {
        "colab": {
          "base_uri": "https://localhost:8080/",
          "height": 603
        },
        "id": "-4chMrwvFAdy",
        "outputId": "67d4bcab-7e1c-41c1-e996-363b90435ee5"
      },
      "execution_count": 9,
      "outputs": [
        {
          "output_type": "stream",
          "name": "stdout",
          "text": [
            "Missing values in each column:\n"
          ]
        },
        {
          "output_type": "execute_result",
          "data": {
            "text/plain": [
              "Name                  2\n",
              "Platform              0\n",
              "Year_of_Release     269\n",
              "Genre                 2\n",
              "Publisher            54\n",
              "NA_Sales              0\n",
              "EU_Sales              0\n",
              "JP_Sales              0\n",
              "Other_Sales           0\n",
              "Global_Sales          0\n",
              "Critic_Score       8582\n",
              "Critic_Count       8582\n",
              "User_Score         6704\n",
              "User_Count         9129\n",
              "Developer          6623\n",
              "Rating             6769\n",
              "dtype: int64"
            ],
            "text/html": [
              "<div>\n",
              "<style scoped>\n",
              "    .dataframe tbody tr th:only-of-type {\n",
              "        vertical-align: middle;\n",
              "    }\n",
              "\n",
              "    .dataframe tbody tr th {\n",
              "        vertical-align: top;\n",
              "    }\n",
              "\n",
              "    .dataframe thead th {\n",
              "        text-align: right;\n",
              "    }\n",
              "</style>\n",
              "<table border=\"1\" class=\"dataframe\">\n",
              "  <thead>\n",
              "    <tr style=\"text-align: right;\">\n",
              "      <th></th>\n",
              "      <th>0</th>\n",
              "    </tr>\n",
              "  </thead>\n",
              "  <tbody>\n",
              "    <tr>\n",
              "      <th>Name</th>\n",
              "      <td>2</td>\n",
              "    </tr>\n",
              "    <tr>\n",
              "      <th>Platform</th>\n",
              "      <td>0</td>\n",
              "    </tr>\n",
              "    <tr>\n",
              "      <th>Year_of_Release</th>\n",
              "      <td>269</td>\n",
              "    </tr>\n",
              "    <tr>\n",
              "      <th>Genre</th>\n",
              "      <td>2</td>\n",
              "    </tr>\n",
              "    <tr>\n",
              "      <th>Publisher</th>\n",
              "      <td>54</td>\n",
              "    </tr>\n",
              "    <tr>\n",
              "      <th>NA_Sales</th>\n",
              "      <td>0</td>\n",
              "    </tr>\n",
              "    <tr>\n",
              "      <th>EU_Sales</th>\n",
              "      <td>0</td>\n",
              "    </tr>\n",
              "    <tr>\n",
              "      <th>JP_Sales</th>\n",
              "      <td>0</td>\n",
              "    </tr>\n",
              "    <tr>\n",
              "      <th>Other_Sales</th>\n",
              "      <td>0</td>\n",
              "    </tr>\n",
              "    <tr>\n",
              "      <th>Global_Sales</th>\n",
              "      <td>0</td>\n",
              "    </tr>\n",
              "    <tr>\n",
              "      <th>Critic_Score</th>\n",
              "      <td>8582</td>\n",
              "    </tr>\n",
              "    <tr>\n",
              "      <th>Critic_Count</th>\n",
              "      <td>8582</td>\n",
              "    </tr>\n",
              "    <tr>\n",
              "      <th>User_Score</th>\n",
              "      <td>6704</td>\n",
              "    </tr>\n",
              "    <tr>\n",
              "      <th>User_Count</th>\n",
              "      <td>9129</td>\n",
              "    </tr>\n",
              "    <tr>\n",
              "      <th>Developer</th>\n",
              "      <td>6623</td>\n",
              "    </tr>\n",
              "    <tr>\n",
              "      <th>Rating</th>\n",
              "      <td>6769</td>\n",
              "    </tr>\n",
              "  </tbody>\n",
              "</table>\n",
              "</div><br><label><b>dtype:</b> int64</label>"
            ]
          },
          "metadata": {},
          "execution_count": 9
        }
      ]
    },
    {
      "cell_type": "markdown",
      "source": [
        "**Why?**\n",
        "\n",
        "Finding missing values now rather than later is important. This is because I can decide whether I should fill them in, remove them, or mark them during cleaning. Knowing how many are missing helps me plan what to do next (Ahmed, 2024a)."
      ],
      "metadata": {
        "id": "bI6R3s-4FVjb"
      }
    },
    {
      "cell_type": "markdown",
      "source": [
        "#### Checking for Duplicates"
      ],
      "metadata": {
        "id": "O1A99JDjFrOW"
      }
    },
    {
      "cell_type": "code",
      "source": [
        "duplicates = vgsales[vgsales.duplicated()]\n",
        "print(f\"Number of duplicate rows: {duplicates.shape[0]}\")"
      ],
      "metadata": {
        "colab": {
          "base_uri": "https://localhost:8080/",
          "height": 0
        },
        "id": "mcoS0POpFu0y",
        "outputId": "2085cb4b-8dc0-4860-91da-6488887379d8"
      },
      "execution_count": 10,
      "outputs": [
        {
          "output_type": "stream",
          "name": "stdout",
          "text": [
            "Number of duplicate rows: 0\n"
          ]
        }
      ]
    },
    {
      "cell_type": "markdown",
      "source": [
        "**Why?**\n",
        "\n",
        "Duplicate entries can mess up the results of summaries and models. Doing this just checks if there are any without removing anything yet"
      ],
      "metadata": {
        "id": "0gcQ7eoBFw_-"
      }
    },
    {
      "cell_type": "markdown",
      "source": [
        "### Part Two: Visual Analysis"
      ],
      "metadata": {
        "id": "zhdAyOmdH4cF"
      }
    },
    {
      "cell_type": "code",
      "source": [
        "plt.figure(figsize=(10,5))\n",
        "sns.countplot(data=vgsales, x='Genre', order=vgsales['Genre'].value_counts().index)\n",
        "plt.title('Distribution of Game Genres')\n",
        "plt.xticks(rotation=45)\n",
        "plt.show()"
      ],
      "metadata": {
        "id": "Z0qhHPPkHd6m",
        "colab": {
          "base_uri": "https://localhost:8080/",
          "height": 558
        },
        "outputId": "ce7b0e01-964b-4b82-cc8a-86c399966f2d"
      },
      "execution_count": 11,
      "outputs": [
        {
          "output_type": "display_data",
          "data": {
            "text/plain": [
              "<Figure size 1000x500 with 1 Axes>"
            ],
            "image/png": "[encoded data removed]"
          },
          "metadata": {}
        }
      ]
    },
    {
      "cell_type": "code",
      "source": [
        "plt.figure(figsize=(12,8))\n",
        "sns.heatmap(vgsales.corr(numeric_only=True), annot=True, cmap='coolwarm')\n",
        "plt.title('Correlation Heatmap')\n",
        "plt.show()"
      ],
      "metadata": {
        "colab": {
          "base_uri": "https://localhost:8080/",
          "height": 811
        },
        "id": "j5gQBBRJNAOc",
        "outputId": "40c684de-0525-4bee-baba-166a98df0a5b"
      },
      "execution_count": 12,
      "outputs": [
        {
          "output_type": "display_data",
          "data": {
            "text/plain": [
              "<Figure size 1200x800 with 2 Axes>"
            ],
            "image/png": "[encoded data removed]"
          },
          "metadata": {}
        }
      ]
    },
    {
      "cell_type": "code",
      "source": [
        "plt.figure(figsize=(10,6))\n",
        "sns.scatterplot(data=vgsales, x='Critic_Score', y='Global_Sales')\n",
        "plt.title('Critic Score vs Global Sales')\n",
        "plt.show()"
      ],
      "metadata": {
        "colab": {
          "base_uri": "https://localhost:8080/",
          "height": 573
        },
        "id": "7fp0hBsBND5i",
        "outputId": "ee4a290f-ab5e-4e72-c4a9-e563261e1381"
      },
      "execution_count": 13,
      "outputs": [
        {
          "output_type": "display_data",
          "data": {
            "text/plain": [
              "<Figure size 1000x600 with 1 Axes>"
            ],
            "image/png": "[encoded data removed]"
          },
          "metadata": {}
        }
      ]
    },
    {
      "cell_type": "markdown",
      "source": [],
      "metadata": {
        "id": "6sXl8dPKP6I-"
      }
    },
    {
      "cell_type": "markdown",
      "source": [
        "## Data Cleaning\n",
        "\n",
        "In this section, I will clean the dataset to prepare it for analysis.\n",
        "\n",
        "What I do here:\n",
        "- Make a safe copy of the data\n",
        "- Check for duplicate rows\n",
        "- Look for missing values and handle them\n",
        "- Drop columns I don’t need\n",
        "- Fix any formatting issues\n",
        "\n",
        "Once this is done, the dataset will be clean, consistent, and ready to use in the next steps."
      ],
      "metadata": {
        "id": "oIxU7VcBtZ2p"
      }
    },
    {
      "cell_type": "markdown",
      "source": [
        "### Create Copy"
      ],
      "metadata": {
        "id": "j9HYcEf8W6Vn"
      }
    },
    {
      "cell_type": "code",
      "source": [
        "vgsales_clean = vgsales.copy()"
      ],
      "metadata": {
        "id": "qoiEp0fDVC05"
      },
      "execution_count": 14,
      "outputs": []
    },
    {
      "cell_type": "markdown",
      "source": [
        "**Why?**\n",
        "\n",
        " I create a copy of the dataset before making any changes. This is because it makes it easier to compare before and after cleaning. It also helps me have an unclean dataset that I can refer to if mistakes are made. This is a precautionary good practice (Ahmed, 2024b)\n"
      ],
      "metadata": {
        "id": "zXQWFLp8W-nq"
      }
    },
    {
      "cell_type": "markdown",
      "source": [
        "### Dataset Shape"
      ],
      "metadata": {
        "id": "FhBuV-PPX1PN"
      }
    },
    {
      "cell_type": "code",
      "source": [
        "print(\"Original shape of dataset:\", vgsales.shape)"
      ],
      "metadata": {
        "colab": {
          "base_uri": "https://localhost:8080/",
          "height": 0
        },
        "id": "0MqesHllX35a",
        "outputId": "0355f286-6d84-4f9b-f456-dda7b74eecd4"
      },
      "execution_count": 15,
      "outputs": [
        {
          "output_type": "stream",
          "name": "stdout",
          "text": [
            "Original shape of dataset: (16719, 16)\n"
          ]
        }
      ]
    },
    {
      "cell_type": "markdown",
      "source": [
        "**Why?**\n",
        "\n",
        "Knowing the dataset's shape before cleaning helps track how much data is lost or retained during the cleaning steps. It’s important to document the impact of each operation (Ahmed, 2024b)"
      ],
      "metadata": {
        "id": "JikPip-se3Wf"
      }
    },
    {
      "cell_type": "markdown",
      "source": [
        "### Check for duplicates in the dataset"
      ],
      "metadata": {
        "id": "IDkul9XlXtRo"
      }
    },
    {
      "cell_type": "code",
      "source": [
        "if vgsales_clean.duplicated().sum() > 0:\n",
        "    print(\"Duplicate Rows Preview:\")\n",
        "    print(vgsales_clean[vgsales_clean.duplicated()].head())\n",
        "else:\n",
        "    print(\"No duplicate rows found.\")\n",
        "\n",
        "print(f'Number of duplicate rows: {vgsales_clean.duplicated().sum()}')\n"
      ],
      "metadata": {
        "colab": {
          "base_uri": "https://localhost:8080/",
          "height": 0
        },
        "id": "ZKYLVfUZW-V4",
        "outputId": "e329cf2d-ceea-4c42-b6ce-abcdc968cbcd"
      },
      "execution_count": 16,
      "outputs": [
        {
          "output_type": "stream",
          "name": "stdout",
          "text": [
            "No duplicate rows found.\n",
            "Number of duplicate rows: 0\n"
          ]
        }
      ]
    },
    {
      "cell_type": "markdown",
      "source": [
        "**Why?**\n",
        "\n",
        "I check for duplicates to make sure there aren't any in the dataset. Even though I didn’t find any here, it’s good to check because just one duplicate could mess up the results or make things look off in graphs (Ahmed, 2024b).\n",
        "\n",
        "Duplicates can mess with stats or charts. If I do find duplicates, I check how many there are and look at a few to see what's repeated. Finding them is the first step before deciding whether to remove them (Ahmed, 2024b)."
      ],
      "metadata": {
        "id": "s3aALyNQRvvr"
      }
    },
    {
      "cell_type": "markdown",
      "source": [
        "### Missing Values"
      ],
      "metadata": {
        "id": "_xF5A1gwXxCk"
      }
    },
    {
      "cell_type": "markdown",
      "source": [
        "#### Check for missing values"
      ],
      "metadata": {
        "id": "DPTwF0DXze79"
      }
    },
    {
      "cell_type": "code",
      "source": [
        "print('Missing values per column:')\n",
        "print(vgsales_clean.isnull().sum())"
      ],
      "metadata": {
        "colab": {
          "base_uri": "https://localhost:8080/",
          "height": 0
        },
        "id": "zjtfbLlNXzdP",
        "outputId": "163d65ee-2699-49b4-a3d2-dc498856a435"
      },
      "execution_count": 17,
      "outputs": [
        {
          "output_type": "stream",
          "name": "stdout",
          "text": [
            "Missing values per column:\n",
            "Name                  2\n",
            "Platform              0\n",
            "Year_of_Release     269\n",
            "Genre                 2\n",
            "Publisher            54\n",
            "NA_Sales              0\n",
            "EU_Sales              0\n",
            "JP_Sales              0\n",
            "Other_Sales           0\n",
            "Global_Sales          0\n",
            "Critic_Score       8582\n",
            "Critic_Count       8582\n",
            "User_Score         6704\n",
            "User_Count         9129\n",
            "Developer          6623\n",
            "Rating             6769\n",
            "dtype: int64\n"
          ]
        }
      ]
    },
    {
      "cell_type": "markdown",
      "source": [
        "#### Percentage of Missing Values"
      ],
      "metadata": {
        "id": "2i44bGkzaD-6"
      }
    },
    {
      "cell_type": "code",
      "source": [
        "print(\"\\nPercentage of missing values:\")\n",
        "print((vgsales_clean.isnull().sum() / len(vgsales_clean)) * 100)"
      ],
      "metadata": {
        "colab": {
          "base_uri": "https://localhost:8080/",
          "height": 0
        },
        "id": "gghD7NSRaErG",
        "outputId": "a14b960b-0a2a-4a84-9440-7cd9bc9f2500"
      },
      "execution_count": 18,
      "outputs": [
        {
          "output_type": "stream",
          "name": "stdout",
          "text": [
            "\n",
            "Percentage of missing values:\n",
            "Name                0.011962\n",
            "Platform            0.000000\n",
            "Year_of_Release     1.608948\n",
            "Genre               0.011962\n",
            "Publisher           0.322986\n",
            "NA_Sales            0.000000\n",
            "EU_Sales            0.000000\n",
            "JP_Sales            0.000000\n",
            "Other_Sales         0.000000\n",
            "Global_Sales        0.000000\n",
            "Critic_Score       51.330821\n",
            "Critic_Count       51.330821\n",
            "User_Score         40.098092\n",
            "User_Count         54.602548\n",
            "Developer          39.613613\n",
            "Rating             40.486871\n",
            "dtype: float64\n"
          ]
        }
      ]
    },
    {
      "cell_type": "markdown",
      "source": [
        "#### Unique Values"
      ],
      "metadata": {
        "id": "SdRH-fhrbHR7"
      }
    },
    {
      "cell_type": "code",
      "source": [
        "print(\"\\nUnique values per column:\")\n",
        "print(vgsales_clean.nunique())"
      ],
      "metadata": {
        "colab": {
          "base_uri": "https://localhost:8080/",
          "height": 0
        },
        "id": "d6cHgi-RbL7b",
        "outputId": "7d396a47-5ae7-4d7d-a3dd-d5fb0a10d6c3"
      },
      "execution_count": 19,
      "outputs": [
        {
          "output_type": "stream",
          "name": "stdout",
          "text": [
            "\n",
            "Unique values per column:\n",
            "Name               11562\n",
            "Platform              31\n",
            "Year_of_Release       39\n",
            "Genre                 12\n",
            "Publisher            581\n",
            "NA_Sales             402\n",
            "EU_Sales             307\n",
            "JP_Sales             244\n",
            "Other_Sales          155\n",
            "Global_Sales         629\n",
            "Critic_Score          82\n",
            "Critic_Count         106\n",
            "User_Score            96\n",
            "User_Count           888\n",
            "Developer           1696\n",
            "Rating                 8\n",
            "dtype: int64\n"
          ]
        }
      ]
    },
    {
      "cell_type": "markdown",
      "source": [
        "### Why?"
      ],
      "metadata": {
        "id": "VxFq1-iirBkt"
      }
    },
    {
      "cell_type": "markdown",
      "source": [
        "**Missing Data**\n",
        "\n",
        "\n",
        "I do this to make sure data gaps does NOT affect how my model works.\n",
        "\n",
        "Missing data can mess up my model training and evaluation which would lead to wrong predictions. By checking how many values are missing in each coilumn, I can decide on the best way to handke them. I can do this by filling, dropping, or replacing so that the final dataset is complete and reliable.\n",
        "\n",
        "Finding missing values is key to keeping the data quality high. Missing data can lower the quality, which impacts model performance. According to Ahmed (2025c), collecting good data and improving features are important for effective classification. Ahmed (2025d) also points out that reliable predictions need accurate data, and missing info can lead to unreliable results. That’s why I make sure to check and fix any missing values to keep my data consistent.\n",
        "\n",
        "<br>\n",
        "\n",
        "**Percentage of missing values**\n",
        "\n",
        "I also look at the number of unique values per column to understand how diverse or categorical each feature is. This helps me judge whether a column is useful for analysis. For example, a column with very few unique values and a lot of missing data is less likely to be helpful (Ahmed, 2024b).\n",
        "\n",
        "<br>\n",
        "\n",
        "**Unique Values**\n",
        "\n",
        "The number of unique values per column to understand how diverse or categorical each feature is. This helps me judge whether a column is useful for analysis. For example, a column with very few unique values and a lot of missing data is less likely to be helpful (Ahmed, 2024b).\n"
      ],
      "metadata": {
        "id": "8eCwlKy_qyVy"
      }
    },
    {
      "cell_type": "markdown",
      "source": [
        "#### Drop"
      ],
      "metadata": {
        "id": "Y5B7tzLw2TT2"
      }
    },
    {
      "cell_type": "code",
      "source": [
        "vgsales_clean = vgsales_clean.dropna(subset=['Name', 'Genre'])"
      ],
      "metadata": {
        "id": "p8Gct4Ov3Qdv"
      },
      "execution_count": 20,
      "outputs": []
    },
    {
      "cell_type": "code",
      "source": [
        "vgsales_clean = vgsales_clean.dropna(subset=['Publisher'])"
      ],
      "metadata": {
        "id": "OrBKYhVe3RdR"
      },
      "execution_count": 21,
      "outputs": []
    },
    {
      "cell_type": "code",
      "source": [
        "vgsales_clean.drop(['Rating', 'User_Count', 'Critic_Score', 'Critic_Count'], axis=1, inplace=True)"
      ],
      "metadata": {
        "id": "mTs61Pg73TeT"
      },
      "execution_count": 22,
      "outputs": []
    },
    {
      "cell_type": "markdown",
      "source": [
        "**Why?**\n",
        "\n",
        "I drop columns or rows when there is only a small amount of missing data or it's not not needed to answer the assessment. For example, `Name` is essential for identifying games and only has 2 missing rows, so it's safe to drop. `Publisher` isn’t required for any questions, so dropping those rows won’t affect the outcome. (Ahmed, 2024b)\n"
      ],
      "metadata": {
        "id": "To4d8UeW4gkK"
      }
    },
    {
      "cell_type": "markdown",
      "source": [
        "#### Impute"
      ],
      "metadata": {
        "id": "9gK-D0_Z2U12"
      }
    },
    {
      "cell_type": "code",
      "source": [
        "year_mode = vgsales_clean['Year_of_Release'].mode()[0]\n",
        "vgsales_clean['Year_of_Release'].fillna(year_mode, inplace=True)"
      ],
      "metadata": {
        "id": "O968cMtT3VIy"
      },
      "execution_count": 23,
      "outputs": []
    },
    {
      "cell_type": "markdown",
      "source": [
        "**Why?**\n",
        "I fill missing values in columns that are needed for questions. For example, I use the mode for `Year_of_Release` so I can compare older and newer games in Q3. I use the median for `User_Score` because it's more robust to outliers (Ahmed, 2024b).\n"
      ],
      "metadata": {
        "id": "R5jIo2jS43i_"
      }
    },
    {
      "cell_type": "markdown",
      "source": [
        "#### Flag"
      ],
      "metadata": {
        "id": "EaZ50xQR2Wri"
      }
    },
    {
      "cell_type": "code",
      "source": [
        "print('Still missing developers:', vgsales_clean['Developer'].isnull().sum())"
      ],
      "metadata": {
        "colab": {
          "base_uri": "https://localhost:8080/",
          "height": 0
        },
        "id": "HA74kV8A3Y6h",
        "outputId": "adb9964b-802a-455f-9798-8ee82fccd112"
      },
      "execution_count": 24,
      "outputs": [
        {
          "output_type": "stream",
          "name": "stdout",
          "text": [
            "Still missing developers: 6576\n"
          ]
        }
      ]
    },
    {
      "cell_type": "markdown",
      "source": [
        "**Why?**\n",
        "\n",
        "I keep `Developer` even though many values are missing because it's needed to answer Q4. I’ll acknowledge the missing data when summerizing and interpreting results. This avoids losing too much data while still being transparent (Ahmed, 2024b).\n"
      ],
      "metadata": {
        "id": "v8vWnKHv5Bmb"
      }
    },
    {
      "cell_type": "markdown",
      "source": [
        "### Columns"
      ],
      "metadata": {
        "id": "U8HytTLpo34S"
      }
    },
    {
      "cell_type": "markdown",
      "source": [
        "#### Column Types"
      ],
      "metadata": {
        "id": "QijzVCSISn2G"
      }
    },
    {
      "cell_type": "code",
      "source": [
        "print(vgsales_clean.dtypes)"
      ],
      "metadata": {
        "colab": {
          "base_uri": "https://localhost:8080/",
          "height": 0
        },
        "id": "vJlybIjnDr51",
        "outputId": "3e1ed163-7c2e-4bb4-ea5e-951325daf5bb"
      },
      "execution_count": 25,
      "outputs": [
        {
          "output_type": "stream",
          "name": "stdout",
          "text": [
            "Name                object\n",
            "Platform            object\n",
            "Year_of_Release    float64\n",
            "Genre               object\n",
            "Publisher           object\n",
            "NA_Sales           float64\n",
            "EU_Sales           float64\n",
            "JP_Sales           float64\n",
            "Other_Sales        float64\n",
            "Global_Sales       float64\n",
            "User_Score          object\n",
            "Developer           object\n",
            "dtype: object\n"
          ]
        }
      ]
    },
    {
      "cell_type": "code",
      "source": [
        "print(vgsales_clean['User_Score'].unique())"
      ],
      "metadata": {
        "colab": {
          "base_uri": "https://localhost:8080/",
          "height": 0
        },
        "id": "7vOhfpq8Hw_z",
        "outputId": "0a3bd58f-24f4-45d6-e72c-f2ba8b792720"
      },
      "execution_count": 26,
      "outputs": [
        {
          "output_type": "stream",
          "name": "stdout",
          "text": [
            "['8' nan '8.3' '8.5' '6.6' '8.4' '8.6' '7.7' '6.3' '7.4' '8.2' '9' '7.9'\n",
            " '8.1' '8.7' '7.1' '3.4' '5.3' '4.8' '3.2' '8.9' '6.4' '7.8' '7.5' '2.6'\n",
            " '7.2' '9.2' '7' '7.3' '4.3' '7.6' '5.7' '5' '9.1' '6.5' 'tbd' '8.8' '6.9'\n",
            " '9.4' '6.8' '6.1' '6.7' '5.4' '4' '4.9' '4.5' '9.3' '6.2' '4.2' '6' '3.7'\n",
            " '4.1' '5.8' '5.6' '5.5' '4.4' '4.6' '5.9' '3.9' '3.1' '2.9' '5.2' '3.3'\n",
            " '4.7' '5.1' '3.5' '2.5' '1.9' '3' '2.7' '2.2' '2' '9.5' '2.1' '3.6' '2.8'\n",
            " '1.8' '3.8' '0' '1.6' '9.6' '2.4' '1.7' '1.1' '0.3' '1.5' '0.7' '1.2'\n",
            " '2.3' '0.5' '1.3' '0.2' '0.6' '1.4' '0.9' '1' '9.7']\n"
          ]
        }
      ]
    },
    {
      "cell_type": "markdown",
      "source": [
        "#### Type Conversion"
      ],
      "metadata": {
        "id": "gGebHS0kD2vD"
      }
    },
    {
      "cell_type": "markdown",
      "source": [
        "##### Convert `User_Score` to Numeric and fix `tbd`"
      ],
      "metadata": {
        "id": "dSnxamlODyyi"
      }
    },
    {
      "cell_type": "code",
      "source": [
        "vgsales_clean['User_Score'] = pd.to_numeric(vgsales_clean['User_Score'], errors='coerce')"
      ],
      "metadata": {
        "id": "zndQUfduo_JM"
      },
      "execution_count": 27,
      "outputs": []
    },
    {
      "cell_type": "markdown",
      "source": [
        "**Why?**\n",
        "\n",
        "I change the `User_Score` column to numbers because `tbd` values aren’t numbers and don’t help in analysis\n"
      ],
      "metadata": {
        "id": "Ugb6A36IS370"
      }
    },
    {
      "cell_type": "markdown",
      "source": [
        "##### Show the conversion"
      ],
      "metadata": {
        "id": "NPmn3EOwEhqD"
      }
    },
    {
      "cell_type": "code",
      "source": [
        "print(vgsales_clean.dtypes)"
      ],
      "metadata": {
        "colab": {
          "base_uri": "https://localhost:8080/",
          "height": 0
        },
        "id": "m7gYIQokD_LV",
        "outputId": "381b7d9f-eba8-419a-bbbf-f76b9d9ab0e8"
      },
      "execution_count": 28,
      "outputs": [
        {
          "output_type": "stream",
          "name": "stdout",
          "text": [
            "Name                object\n",
            "Platform            object\n",
            "Year_of_Release    float64\n",
            "Genre               object\n",
            "Publisher           object\n",
            "NA_Sales           float64\n",
            "EU_Sales           float64\n",
            "JP_Sales           float64\n",
            "Other_Sales        float64\n",
            "Global_Sales       float64\n",
            "User_Score         float64\n",
            "Developer           object\n",
            "dtype: object\n"
          ]
        }
      ]
    },
    {
      "cell_type": "markdown",
      "source": [
        "**Why?**\n",
        "\n",
        "I convert the `User_Score` column to numeric because `tbd` values are non-numeric and meaningless in statistical analysis.\n",
        "\n",
        "Using `errors='coerce'` converts these into NaN. This helps me to handle them properly in the next step (Ahmed, 2024b).\n"
      ],
      "metadata": {
        "id": "o-l0E_FfpA6L"
      }
    },
    {
      "cell_type": "markdown",
      "source": [],
      "metadata": {
        "id": "fjjsxNRnGAya"
      }
    },
    {
      "cell_type": "markdown",
      "source": [
        "#### Inspecting columns"
      ],
      "metadata": {
        "id": "KkqyrneOks7z"
      }
    },
    {
      "cell_type": "code",
      "source": [
        "print(\"\\nUnique values per column:\")\n",
        "print(vgsales_clean.nunique())\n",
        "\n",
        "print(\"\\nPercentage of missing values:\")\n",
        "print((vgsales_clean.isnull().sum() / len(vgsales_clean)) * 100)"
      ],
      "metadata": {
        "colab": {
          "base_uri": "https://localhost:8080/",
          "height": 0
        },
        "id": "esnnug3YkwYd",
        "outputId": "ccfea070-ec12-4dcb-9893-103ff8d9363e"
      },
      "execution_count": 29,
      "outputs": [
        {
          "output_type": "stream",
          "name": "stdout",
          "text": [
            "\n",
            "Unique values per column:\n",
            "Name               11514\n",
            "Platform              31\n",
            "Year_of_Release       39\n",
            "Genre                 12\n",
            "Publisher            581\n",
            "NA_Sales             402\n",
            "EU_Sales             307\n",
            "JP_Sales             244\n",
            "Other_Sales          155\n",
            "Global_Sales         629\n",
            "User_Score            95\n",
            "Developer           1695\n",
            "dtype: int64\n",
            "\n",
            "Percentage of missing values:\n",
            "Name                0.000000\n",
            "Platform            0.000000\n",
            "Year_of_Release     0.000000\n",
            "Genre               0.000000\n",
            "Publisher           0.000000\n",
            "NA_Sales            0.000000\n",
            "EU_Sales            0.000000\n",
            "JP_Sales            0.000000\n",
            "Other_Sales         0.000000\n",
            "Global_Sales        0.000000\n",
            "User_Score         54.485987\n",
            "Developer          39.464682\n",
            "dtype: float64\n"
          ]
        }
      ]
    },
    {
      "cell_type": "markdown",
      "source": [
        "**Why?**\n",
        "\n",
        "I looked at the number of unique values and how much data was missing in each column.\n",
        "\n",
        "'Rating' had more than 40% missing data and only 8 unique values, so it wasn’t useful for analysis.\n",
        "\n",
        "'Developer' also had about 39% missing data, but it’s needed to answer one of the project questions. So, I decided to keep 'Developer' and remove 'Rating' (Ahmed, 2024b)"
      ],
      "metadata": {
        "id": "nlij7_LMn6wU"
      }
    },
    {
      "cell_type": "markdown",
      "source": [
        "#### Drop irrelevant columns"
      ],
      "metadata": {
        "id": "e23pAUZNlFLB"
      }
    },
    {
      "cell_type": "markdown",
      "source": [
        "I dropped the 'Rating' column because it has over **40%** missing values and only has 8 unique values, so it's not useful for my analysis.\n",
        "\n",
        "I don't need it for any of my assessment questions, like those related to sales or developer counts.\n",
        "\n",
        "While the 'Developer' column also has a lot of missing data **~39%**, I kept it because one of the questions specifically asks for the most common developers, so it is needed for analysis (Ahmed, 2024b).\n"
      ],
      "metadata": {
        "id": "os1_IwWloQvS"
      }
    },
    {
      "cell_type": "markdown",
      "source": [
        "#### Impute"
      ],
      "metadata": {
        "id": "HylTiENiGaGN"
      }
    },
    {
      "cell_type": "code",
      "source": [
        "year_mode = vgsales_clean['Year_of_Release'].mode()[0]\n",
        "vgsales_clean['Year_of_Release'].fillna(year_mode, inplace=True)"
      ],
      "metadata": {
        "id": "VKQF_F_fGgVI"
      },
      "execution_count": 30,
      "outputs": []
    },
    {
      "cell_type": "code",
      "source": [
        "user_score_median = vgsales_clean['User_Score'].median()\n",
        "vgsales_clean['User_Score'].fillna(user_score_median, inplace=True)"
      ],
      "metadata": {
        "id": "DdiIu4JvGiAe"
      },
      "execution_count": 31,
      "outputs": []
    },
    {
      "cell_type": "markdown",
      "source": [
        "**Why?**\n",
        "\n",
        "I fill missing values in columns that are needed for questions. For example, I use the mode for `Year_of_Release` so I can compare older and newer games in Q3. For `User_Score`, I convert it to numeric first since it contains values like 'tbd'. Then I fill it with the median because it’s robust to outliers and keeps the distribution realistic (Ahmed, 2024b)."
      ],
      "metadata": {
        "id": "iqDJ3vqZGoEw"
      }
    },
    {
      "cell_type": "markdown",
      "source": [
        "#### Flag"
      ],
      "metadata": {
        "id": "76Mwk4dLGccW"
      }
    },
    {
      "cell_type": "markdown",
      "source": [
        "**Why?**\n",
        "\n",
        "I keep `Developer` even though many values are missing because it’s needed to answer Q4. I’ll acknowledge the missing data when summarising and interpreting results. This avoids losing too much data while still being transparent (Ahmed, 2024b)."
      ],
      "metadata": {
        "id": "-Sn3Yz-9Gwe2"
      }
    },
    {
      "cell_type": "markdown",
      "source": [
        "#### Convert Columns to Proper Types"
      ],
      "metadata": {
        "id": "JWEFqmTdpSsT"
      }
    },
    {
      "cell_type": "code",
      "source": [
        "vgsales_clean['Year_of_Release'] = vgsales_clean['Year_of_Release'].astype('Int64')"
      ],
      "metadata": {
        "id": "pPDzWGAupV07"
      },
      "execution_count": 32,
      "outputs": []
    },
    {
      "cell_type": "markdown",
      "source": [
        "**Why?**\n",
        "\n",
        "I ensure that the `Year_of_Release` column is treated as an **integer** rather than **object** or **string**.\n",
        "\n",
        "This conversion makes sure things are sorted properly and easily calculated later on (Ahmed, 2024b).\n"
      ],
      "metadata": {
        "id": "OO2Knw5zpVeP"
      }
    },
    {
      "cell_type": "markdown",
      "source": [
        "### Syntax errors and Standardisation"
      ],
      "metadata": {
        "id": "LmSi-zUbqDGV"
      }
    },
    {
      "cell_type": "code",
      "source": [
        "vgsales_clean['Platform'] = vgsales_clean['Platform'].str.upper().str.strip()"
      ],
      "metadata": {
        "id": "KMw8R_xku1Cp"
      },
      "execution_count": 33,
      "outputs": []
    },
    {
      "cell_type": "markdown",
      "source": [
        "**Why?**\n",
        "\n",
        "If the categories are inconsistant it can lead to wrong results. I make the `Platform` colkumn consistant by fixing the case and removing extra spaces. This allows me to make sure that I get xonsistant grouping anf plotting (Ahmed, 2024b)\n"
      ],
      "metadata": {
        "id": "KcjxmMg4u2hq"
      }
    },
    {
      "cell_type": "markdown",
      "source": [
        "### Review data cleaning"
      ],
      "metadata": {
        "id": "Rr-z7OP3qgEK"
      }
    },
    {
      "cell_type": "markdown",
      "source": [
        "#### Columns before and after cleaning"
      ],
      "metadata": {
        "id": "ARRGY6ZhCjET"
      }
    },
    {
      "cell_type": "code",
      "source": [
        "# Before cleaning\n",
        "print(\"Columns before cleaning:\")\n",
        "print(vgsales.columns.tolist())\n",
        "\n",
        "# After cleaning\n",
        "print(\"Columns after cleaning:\")\n",
        "print(vgsales_clean.columns.tolist())"
      ],
      "metadata": {
        "colab": {
          "base_uri": "https://localhost:8080/",
          "height": 0
        },
        "id": "YRIH91kWqh-Q",
        "outputId": "20c260eb-64b7-42bb-9294-5d5e6ad2240b"
      },
      "execution_count": 34,
      "outputs": [
        {
          "output_type": "stream",
          "name": "stdout",
          "text": [
            "Columns before cleaning:\n",
            "['Name', 'Platform', 'Year_of_Release', 'Genre', 'Publisher', 'NA_Sales', 'EU_Sales', 'JP_Sales', 'Other_Sales', 'Global_Sales', 'Critic_Score', 'Critic_Count', 'User_Score', 'User_Count', 'Developer', 'Rating']\n",
            "Columns after cleaning:\n",
            "['Name', 'Platform', 'Year_of_Release', 'Genre', 'Publisher', 'NA_Sales', 'EU_Sales', 'JP_Sales', 'Other_Sales', 'Global_Sales', 'User_Score', 'Developer']\n"
          ]
        }
      ]
    },
    {
      "cell_type": "code",
      "source": [
        "# Get before/after column lists\n",
        "before_cols = set(vgsales.columns)\n",
        "after_cols = set(vgsales_clean.columns)\n",
        "\n",
        "# Determine dropped and kept columns\n",
        "dropped_cols = list(before_cols - after_cols)\n",
        "kept_cols = list(before_cols & after_cols)\n",
        "\n",
        "# Prepare data\n",
        "labels = kept_cols + dropped_cols\n",
        "status = ['Kept'] * len(kept_cols) + ['Dropped'] * len(dropped_cols)\n",
        "colors = ['#4CAF50' if s == 'Kept' else '#FF6F61' for s in status]\n",
        "\n",
        "# Plot\n",
        "plt.figure(figsize=(10, len(labels) * 0.4))\n",
        "bars = plt.barh(labels, [1]*len(labels), color=colors)\n",
        "\n",
        "# Add title and formatting\n",
        "plt.title(\"Column Status Before and After Cleaning\")\n",
        "plt.xticks([])  # Hide x-axis\n",
        "plt.tight_layout()\n",
        "\n",
        "# Add legend\n",
        "kept_patch = mpatches.Patch(color='#4CAF50', label='Kept')\n",
        "dropped_patch = mpatches.Patch(color='#FF6F61', label='Dropped')\n",
        "plt.legend(handles=[kept_patch, dropped_patch], loc='lower right')\n",
        "\n",
        "plt.show()"
      ],
      "metadata": {
        "colab": {
          "base_uri": "https://localhost:8080/",
          "height": 640
        },
        "id": "vmvkx4IrLuv2",
        "outputId": "a6629c7b-e8e6-4b63-f003-96a816ba3de0"
      },
      "execution_count": 45,
      "outputs": [
        {
          "output_type": "display_data",
          "data": {
            "text/plain": [
              "<Figure size 1000x640 with 1 Axes>"
            ],
            "image/png": "[encoded data removed]"
          },
          "metadata": {}
        }
      ]
    },
    {
      "cell_type": "markdown",
      "source": [
        "As part of the data cleaning, I compared the columns before and after cleaning to show what was kept and what was removed. The original dataset had 16 columns, but after cleaning, only 12 were left. Columns like Rating, Critic_Score, Critic_Count, and User_Count were removed because they had too many missing values or weren’t needed for the project. This follows advice from Ahmed (2024b), who suggests removing unnecessary features to make the analysis simpler and clearer.\n",
        "\n",
        "I used a horizontal bar chart where green bars represent columns kept and red bars show those removed as a visualisation. This was very helpful at comparing the data easily using bar length and colour, as McQuaid (2024a) recommends. The colours also follow good design rules from McQuaid (2024b), and the labels are clear, which matches McQuaid’s (2024c) tips on effective plotting. The chart avoids confusion or clutter, following McQuaid’s (2025d) advice.\n",
        "\n",
        "The final dataset now has only the most useful and complete features, which makes the analysis clearer and easier to work with (Ahmed, 2024a)."
      ],
      "metadata": {
        "id": "sZt5c37Qt_Js"
      }
    },
    {
      "cell_type": "markdown",
      "source": [
        "#### Dataset shape before and after cleaning"
      ],
      "metadata": {
        "id": "ddZwBwA3Cmvf"
      }
    },
    {
      "cell_type": "code",
      "source": [
        "# Before cleaning\n",
        "print(\"Original shape of dataset:\", vgsales.shape)\n",
        "\n",
        "# After cleaning\n",
        "print(\"Shape after cleaning:\", vgsales_clean.shape)"
      ],
      "metadata": {
        "colab": {
          "base_uri": "https://localhost:8080/",
          "height": 0
        },
        "id": "jRRX8I-1Cqf8",
        "outputId": "0d96d6b3-c8ed-465f-88d4-c3a758ec77e5"
      },
      "execution_count": 36,
      "outputs": [
        {
          "output_type": "stream",
          "name": "stdout",
          "text": [
            "Original shape of dataset: (16719, 16)\n",
            "Shape after cleaning: (16663, 12)\n"
          ]
        }
      ]
    },
    {
      "cell_type": "code",
      "source": [
        "# Get shape info\n",
        "before_rows, before_cols = vgsales.shape\n",
        "after_rows, after_cols = vgsales_clean.shape\n",
        "\n",
        "# Grouped bar data\n",
        "labels = ['Rows', 'Columns']\n",
        "before = [before_rows, before_cols]\n",
        "after = [after_rows, after_cols]\n",
        "\n",
        "x = range(len(labels))\n",
        "width = 0.35  # width of the bars\n",
        "\n",
        "# Plot\n",
        "fig, ax = plt.subplots(figsize=(8, 5))\n",
        "bars1 = ax.bar(x, before, width, label='Before Cleaning', color='#A9A9A9')\n",
        "bars2 = ax.bar([i + width for i in x], after, width, label='After Cleaning', color='#4CAF50')\n",
        "\n",
        "# Labels and formatting\n",
        "ax.set_ylabel('Count')\n",
        "ax.set_title('Dataset Shape Before and After Cleaning')\n",
        "ax.set_xticks([i + width / 2 for i in x])\n",
        "ax.set_xticklabels(labels)\n",
        "ax.legend()\n",
        "ax.bar_label(bars1, padding=3, fontsize=9)\n",
        "ax.bar_label(bars2, padding=3, fontsize=9)\n",
        "plt.tight_layout()\n",
        "plt.show()\n"
      ],
      "metadata": {
        "colab": {
          "base_uri": "https://localhost:8080/",
          "height": 501
        },
        "id": "8-FnyRXUJL_J",
        "outputId": "4f29047c-6994-4fac-b8a5-a41d1465b5e2"
      },
      "execution_count": 37,
      "outputs": [
        {
          "output_type": "display_data",
          "data": {
            "text/plain": [
              "<Figure size 800x500 with 1 Axes>"
            ],
            "image/png": "[encoded data removed]"
          },
          "metadata": {}
        }
      ]
    },
    {
      "cell_type": "markdown",
      "source": [
        "This grouped bar chart shows the number of rows and columns in the dataset before and after cleaning.\n",
        "\n",
        "The original dataset had 16,719 rows and 16 column while after cleaning, it had 16,663 rows and 12 columns.\n",
        "\n",
        "The small drop in rows happened because I removed records with missing values in important fields like Name, Genre, and Publisher. The bigger change was in the columns, where features like Rating, User_Count, Critic_Score, and Critic_Count were removed.\n",
        "\n",
        "These columns were dropped because they didn’t help with the analysis questions or had too many missing values, making them unreliable. As Ahmed (2024b) suggests, removing less useful features helps reduce noise and keeps the analysis focused.\n",
        "\n",
        "This visualisatoion follows Ahmed’s (2024a) advice to simplify data for better analysis and matches McQuaid’s (2024a) advice on using bar charts to compare things easily. The count labels and use of simple grey and green colours make the changes clear, following McQuaid’s (2024b, 2024c) best practices and avoiding the mistakes McQuaid (2025d) warns about"
      ],
      "metadata": {
        "id": "MvrzEVH5yzR3"
      }
    },
    {
      "cell_type": "markdown",
      "source": [
        "#### Missing Values"
      ],
      "metadata": {
        "id": "vN6JFi4NGmb2"
      }
    },
    {
      "cell_type": "code",
      "source": [
        "# Before cleaning\n",
        "print(\"Missing values before cleaning:\")\n",
        "missing_before = vgsales.isnull().sum()\n",
        "print(missing_before)\n",
        "\n",
        "# After cleaning\n",
        "print(\"\\nMissing values after cleaning:\")\n",
        "missing_after = vgsales_clean.isnull().sum()\n",
        "print(missing_after)"
      ],
      "metadata": {
        "colab": {
          "base_uri": "https://localhost:8080/",
          "height": 0
        },
        "id": "aj1Ezxp7He9j",
        "outputId": "a07d3f25-3d31-4f36-cf2b-967627f01b7c"
      },
      "execution_count": 38,
      "outputs": [
        {
          "output_type": "stream",
          "name": "stdout",
          "text": [
            "Missing values before cleaning:\n",
            "Name                  2\n",
            "Platform              0\n",
            "Year_of_Release     269\n",
            "Genre                 2\n",
            "Publisher            54\n",
            "NA_Sales              0\n",
            "EU_Sales              0\n",
            "JP_Sales              0\n",
            "Other_Sales           0\n",
            "Global_Sales          0\n",
            "Critic_Score       8582\n",
            "Critic_Count       8582\n",
            "User_Score         6704\n",
            "User_Count         9129\n",
            "Developer          6623\n",
            "Rating             6769\n",
            "dtype: int64\n",
            "\n",
            "Missing values after cleaning:\n",
            "Name                  0\n",
            "Platform              0\n",
            "Year_of_Release       0\n",
            "Genre                 0\n",
            "Publisher             0\n",
            "NA_Sales              0\n",
            "EU_Sales              0\n",
            "JP_Sales              0\n",
            "Other_Sales           0\n",
            "Global_Sales          0\n",
            "User_Score            0\n",
            "Developer          6576\n",
            "dtype: int64\n"
          ]
        }
      ]
    },
    {
      "cell_type": "code",
      "source": [
        "# Before cleaning\n",
        "print(\"\\nPercentage missing before cleaning:\")\n",
        "print((missing_before / len(vgsales)) * 100)\n",
        "\n",
        "# After cleaning\n",
        "print(\"\\nPercentage missing after cleaning:\")\n",
        "print((missing_after / len(vgsales_clean)) * 100)"
      ],
      "metadata": {
        "colab": {
          "base_uri": "https://localhost:8080/",
          "height": 0
        },
        "id": "J4bBVI66K3Ms",
        "outputId": "8b66d192-b379-4538-8e7a-eff1b0cc22e9"
      },
      "execution_count": 39,
      "outputs": [
        {
          "output_type": "stream",
          "name": "stdout",
          "text": [
            "\n",
            "Percentage missing before cleaning:\n",
            "Name                0.011962\n",
            "Platform            0.000000\n",
            "Year_of_Release     1.608948\n",
            "Genre               0.011962\n",
            "Publisher           0.322986\n",
            "NA_Sales            0.000000\n",
            "EU_Sales            0.000000\n",
            "JP_Sales            0.000000\n",
            "Other_Sales         0.000000\n",
            "Global_Sales        0.000000\n",
            "Critic_Score       51.330821\n",
            "Critic_Count       51.330821\n",
            "User_Score         40.098092\n",
            "User_Count         54.602548\n",
            "Developer          39.613613\n",
            "Rating             40.486871\n",
            "dtype: float64\n",
            "\n",
            "Percentage missing after cleaning:\n",
            "Name                0.000000\n",
            "Platform            0.000000\n",
            "Year_of_Release     0.000000\n",
            "Genre               0.000000\n",
            "Publisher           0.000000\n",
            "NA_Sales            0.000000\n",
            "EU_Sales            0.000000\n",
            "JP_Sales            0.000000\n",
            "Other_Sales         0.000000\n",
            "Global_Sales        0.000000\n",
            "User_Score          0.000000\n",
            "Developer          39.464682\n",
            "dtype: float64\n"
          ]
        }
      ]
    },
    {
      "cell_type": "code",
      "source": [
        "# Missing value counts\n",
        "missing_before = vgsales.isnull().sum()\n",
        "missing_after = vgsales_clean.isnull().sum()\n",
        "\n",
        "# Combine into a single DataFrame for plotting\n",
        "missing_df = pd.DataFrame({\n",
        "    'Before Cleaning': missing_before,\n",
        "    'After Cleaning': missing_after\n",
        "})\n",
        "\n",
        "# Set colors: grey for before, green for after\n",
        "colors = ['#A9A9A9', '#4CAF50']\n",
        "\n",
        "# Plot\n",
        "missing_df.plot(kind='bar', figsize=(12,6), color=colors)\n",
        "plt.title('Missing Values Before and After Cleaning')\n",
        "plt.ylabel('Count of Missing Values')\n",
        "plt.xticks(rotation=45)\n",
        "plt.tight_layout()\n",
        "plt.show()"
      ],
      "metadata": {
        "colab": {
          "base_uri": "https://localhost:8080/",
          "height": 600
        },
        "id": "7UVMc_Vc6bLK",
        "outputId": "4c01b2e5-13e3-42c4-b7f0-120cffeeab4e"
      },
      "execution_count": 40,
      "outputs": [
        {
          "output_type": "display_data",
          "data": {
            "text/plain": [
              "<Figure size 1200x600 with 1 Axes>"
            ],
            "image/png": "[encoded data removed]"
          },
          "metadata": {}
        }
      ]
    },
    {
      "cell_type": "markdown",
      "source": [
        "To understand how missing data affected the dataset, I checked the number and percentage of missing values before and after cleaning. Before cleaning, several columns had a high percentage of missing data — for example, `User_Count` was missing 54%, `Critic_Score` and `Critic_Count` were each missing over 51%, and `Rating` had 40% missing. Other important columns like `Name`, `Genre`, and `Year_of_Release` had very few missing values (less than 2%).\n",
        "\n",
        "I removed the columns with too much missing data and that weren’t needed for the project questions. These included `Rating`, `Critic_Score`, `Critic_Count`, and `User_Count`. For important columns like `Year_of_Release` and `User_Score`, I kept them and filled in the missing values using the mode and median. I also decided to keep the `Developer` column even though it still has missing values, because it's required for one of the analysis questions.\n",
        "\n",
        "The bar chart shows the difference in missing values before and after cleaning. The green bars show cleaned columns, and grey bars show those that were either dropped or had no changes. This visual helps highlight the effectiveness of the cleaning process (Ahmed, 2024b). Following McQuaid’s (2024a) guidance, I used a clear chart format that makes comparison easy, and avoided cluttered or misleading visuals as warned against in McQuaid (2025d)."
      ],
      "metadata": {
        "id": "a-6fYVBNz7ed"
      }
    },
    {
      "cell_type": "markdown",
      "source": [
        "#### User_Score before and after cleaning"
      ],
      "metadata": {
        "id": "JtsLZuRbHWpV"
      }
    },
    {
      "cell_type": "code",
      "source": [
        "# Before: unique values (as strings)\n",
        "print(\"User_Score unique values before conversion:\")\n",
        "print(vgsales['User_Score'].unique())\n",
        "\n",
        "# After: should now be floats and NaNs only\n",
        "print(\"User_Score unique values after cleaning:\")\n",
        "print(vgsales_clean['User_Score'].unique())"
      ],
      "metadata": {
        "colab": {
          "base_uri": "https://localhost:8080/",
          "height": 0
        },
        "id": "BzZKTeg7Hfnd",
        "outputId": "4e31abf3-2688-457e-97e1-bddd14a0b63a"
      },
      "execution_count": 41,
      "outputs": [
        {
          "output_type": "stream",
          "name": "stdout",
          "text": [
            "User_Score unique values before conversion:\n",
            "['8' nan '8.3' '8.5' '6.6' '8.4' '8.6' '7.7' '6.3' '7.4' '8.2' '9' '7.9'\n",
            " '8.1' '8.7' '7.1' '3.4' '5.3' '4.8' '3.2' '8.9' '6.4' '7.8' '7.5' '2.6'\n",
            " '7.2' '9.2' '7' '7.3' '4.3' '7.6' '5.7' '5' '9.1' '6.5' 'tbd' '8.8' '6.9'\n",
            " '9.4' '6.8' '6.1' '6.7' '5.4' '4' '4.9' '4.5' '9.3' '6.2' '4.2' '6' '3.7'\n",
            " '4.1' '5.8' '5.6' '5.5' '4.4' '4.6' '5.9' '3.9' '3.1' '2.9' '5.2' '3.3'\n",
            " '4.7' '5.1' '3.5' '2.5' '1.9' '3' '2.7' '2.2' '2' '9.5' '2.1' '3.6' '2.8'\n",
            " '1.8' '3.8' '0' '1.6' '9.6' '2.4' '1.7' '1.1' '0.3' '1.5' '0.7' '1.2'\n",
            " '2.3' '0.5' '1.3' '0.2' '0.6' '1.4' '0.9' '1' '9.7']\n",
            "User_Score unique values after cleaning:\n",
            "[8.  7.5 8.3 8.5 6.6 8.4 8.6 7.7 6.3 7.4 8.2 9.  7.9 8.1 8.7 7.1 3.4 5.3\n",
            " 4.8 3.2 8.9 6.4 7.8 2.6 7.2 9.2 7.  7.3 4.3 7.6 5.7 5.  9.1 6.5 8.8 6.9\n",
            " 9.4 6.8 6.1 6.7 5.4 4.  4.9 4.5 9.3 6.2 4.2 6.  3.7 4.1 5.8 5.6 5.5 4.4\n",
            " 4.6 5.9 3.9 3.1 2.9 5.2 3.3 4.7 5.1 3.5 2.5 1.9 3.  2.7 2.2 2.  9.5 2.1\n",
            " 3.6 2.8 1.8 3.8 0.  1.6 9.6 2.4 1.7 1.1 0.3 1.5 0.7 1.2 2.3 0.5 1.3 0.2\n",
            " 0.6 1.4 0.9 1.  9.7]\n"
          ]
        }
      ]
    },
    {
      "cell_type": "code",
      "source": [
        "# Count of invalid entries before cleaning\n",
        "invalid_count = (vgsales['User_Score'] == 'tbd').sum()\n",
        "valid_count = vgsales['User_Score'].notna().sum() - invalid_count\n",
        "\n",
        "# Plot\n",
        "plt.figure(figsize=(6, 5))\n",
        "plt.bar(['Valid Scores', \"'tbd' Values\"], [valid_count, invalid_count], color=['#4CAF50', '#FF6F61'])\n",
        "\n",
        "plt.title(\"User Score Breakdown Before Cleaning\")\n",
        "plt.ylabel(\"Count\")\n",
        "plt.tight_layout()\n",
        "plt.show()"
      ],
      "metadata": {
        "colab": {
          "base_uri": "https://localhost:8080/",
          "height": 501
        },
        "id": "vdpc10Kjf1UK",
        "outputId": "103d135a-aab0-49e5-f018-ca595115326e"
      },
      "execution_count": 47,
      "outputs": [
        {
          "output_type": "display_data",
          "data": {
            "text/plain": [
              "<Figure size 600x500 with 1 Axes>"
            ],
            "image/png": "[encoded data removed]"
          },
          "metadata": {}
        }
      ]
    },
    {
      "cell_type": "markdown",
      "source": [
        "The `User_Score` column had some bad values like `'tbd'` that couldn’t be used in calculations. This bar chart shows how many scores were real numbers and how many were `'tbd'` before cleaning.\n",
        "\n",
        "To fix it, I changed the column to numeric, which turned the `'tbd'` values into missing values (`NaN`). Then I filled those in using the median score. This let me keep the column and still use it for analysis.\n",
        "\n",
        "The chart helps show why this clean-up was needed and how much of the data had to be fixed (Ahmed, 2024b)."
      ],
      "metadata": {
        "id": "MiWJkCeD0Ptn"
      }
    },
    {
      "cell_type": "markdown",
      "source": [
        "### Summary"
      ],
      "metadata": {
        "id": "lNZJ943c9g2H"
      }
    },
    {
      "cell_type": "markdown",
      "source": [
        "In this section, I cleaned the dataset to get it ready for analysis. I didn’t find any duplicate rows, which was good. I checked for missing values and found that some columns like `Name` and `Genre` were only missing a few rows, so I dropped those. Other columns like `Rating` and `User_Count` had lots of missing data and weren’t useful for answering the assessment questions, so I dropped those too.\n",
        "\n",
        "I fixed the `User_Score` column by turning it into a number and filling in the missing values using the median. I also filled in missing years of release using the most common year in the data. The `Developer` column had a lot of missing values, but I kept it because it’s needed for one of the questions.\n",
        "\n",
        "Lastly, I changed some column types, like making sure the year was stored as a number, and I cleaned up text columns like `Platform` so everything is consistent. After all this, the dataset is now neat, complete, and ready for visualisation and analysis.\n",
        "\n",
        "To support my decisions, I used several simple visualisations:\n",
        "* A bar chart comparing missing values before and after cleaning\n",
        "* A grouped bar chart showing how the dataset shape changed\n",
        "* A horizontal bar chart showing which columns were dropped or kept\n",
        "* A count chart showing how many `'tbd'` values were found in `User_Score`\n",
        "\n",
        "These visuals made it easier to explain what I changed and why. They also helped ensure the cleaning process followed clear visual communication principles (Ahmed, 2024b; McQuaid, 2024a; McQuaid, 2024c)."
      ],
      "metadata": {
        "id": "vbC6MqU99jgE"
      }
    },
    {
      "cell_type": "markdown",
      "source": [
        "## Feature Selection"
      ],
      "metadata": {
        "id": "LmSD6OkEBED0"
      }
    },
    {
      "cell_type": "markdown",
      "source": [
        "During the data cleaning section, I picked which columns were useful for answering the four project questions. I removed columns with too much missing data or ones that weren’t needed for the analysis. These included:\n",
        "\n",
        "* `Rating` (too much missing data, not needed)\n",
        "* `User_Count`, `Critic_Score`, `Critic_Count` (not used in any questions)\n",
        "* `Publisher` (not needed for analysis/assessment)\n",
        "\n",
        "I kept only the columns that helped answer the questions:\n",
        "\n",
        "* `Name`, `Global_Sales` → used for top 5 games\n",
        "* `Genre` → needed for genre distribution\n",
        "* `Year_of_Release`, `EU_Sales` → needed for comparing older vs newer games\n",
        "* `Developer` → needed to find the most common developers\n",
        "\n",
        "I also kept `User_Score` even though it wasn’t required for the main questions. I cleaned it by converting `'tbd'` to `NaN` and filling missing values with the median.\n",
        "This made the dataset smaller, simpler, and focused only on the important info.\n"
      ],
      "metadata": {
        "id": "7cxSpNWyBG48"
      }
    }
  ]
}